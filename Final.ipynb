{
  "nbformat": 4,
  "nbformat_minor": 0,
  "metadata": {
    "colab": {
      "name": "Final.ipynb",
      "provenance": [],
      "collapsed_sections": [],
      "include_colab_link": true
    },
    "kernelspec": {
      "name": "python3",
      "display_name": "Python 3"
    }
  },
  "cells": [
    {
      "cell_type": "markdown",
      "metadata": {
        "id": "view-in-github",
        "colab_type": "text"
      },
      "source": [
        "<a href=\"https://colab.research.google.com/github/SanyaKapoor/Commodity-Derivatives-Indexation/blob/main/Final.ipynb\" target=\"_parent\"><img src=\"https://colab.research.google.com/assets/colab-badge.svg\" alt=\"Open In Colab\"/></a>"
      ]
    },
    {
      "cell_type": "code",
      "metadata": {
        "id": "fSOpwGtXoJ71",
        "colab": {
          "base_uri": "https://localhost:8080/",
          "height": 570
        },
        "outputId": "ca1c803d-7a5c-4ddc-cd47-4c728e3e7023"
      },
      "source": [
        "!pip install investpy"
      ],
      "execution_count": null,
      "outputs": [
        {
          "output_type": "stream",
          "text": [
            "Collecting investpy\n",
            "\u001b[?25l  Downloading https://files.pythonhosted.org/packages/21/67/0488de1558cf159260046521dcba0bb1304f6c1190372bfb4ac709e994f3/investpy-0.9.14.tar.gz (4.4MB)\n",
            "\u001b[K     |████████████████████████████████| 4.4MB 2.7MB/s \n",
            "\u001b[?25hCollecting Unidecode>=1.1.1\n",
            "\u001b[?25l  Downloading https://files.pythonhosted.org/packages/d0/42/d9edfed04228bacea2d824904cae367ee9efd05e6cce7ceaaedd0b0ad964/Unidecode-1.1.1-py2.py3-none-any.whl (238kB)\n",
            "\u001b[K     |████████████████████████████████| 245kB 37.9MB/s \n",
            "\u001b[?25hRequirement already satisfied: setuptools>=41.2.0 in /usr/local/lib/python3.6/dist-packages (from investpy) (49.2.0)\n",
            "Requirement already satisfied: numpy>=1.17.2 in /usr/local/lib/python3.6/dist-packages (from investpy) (1.18.5)\n",
            "Requirement already satisfied: pandas>=0.25.1 in /usr/local/lib/python3.6/dist-packages (from investpy) (1.0.5)\n",
            "Collecting lxml>=4.4.1\n",
            "\u001b[?25l  Downloading https://files.pythonhosted.org/packages/79/37/d420b7fdc9a550bd29b8cfeacff3b38502d9600b09d7dfae9a69e623b891/lxml-4.5.2-cp36-cp36m-manylinux1_x86_64.whl (5.5MB)\n",
            "\u001b[K     |████████████████████████████████| 5.5MB 36.9MB/s \n",
            "\u001b[?25hRequirement already satisfied: requests>=2.22.0 in /usr/local/lib/python3.6/dist-packages (from investpy) (2.23.0)\n",
            "Requirement already satisfied: python-dateutil>=2.6.1 in /usr/local/lib/python3.6/dist-packages (from pandas>=0.25.1->investpy) (2.8.1)\n",
            "Requirement already satisfied: pytz>=2017.2 in /usr/local/lib/python3.6/dist-packages (from pandas>=0.25.1->investpy) (2018.9)\n",
            "Requirement already satisfied: idna<3,>=2.5 in /usr/local/lib/python3.6/dist-packages (from requests>=2.22.0->investpy) (2.10)\n",
            "Requirement already satisfied: urllib3!=1.25.0,!=1.25.1,<1.26,>=1.21.1 in /usr/local/lib/python3.6/dist-packages (from requests>=2.22.0->investpy) (1.24.3)\n",
            "Requirement already satisfied: chardet<4,>=3.0.2 in /usr/local/lib/python3.6/dist-packages (from requests>=2.22.0->investpy) (3.0.4)\n",
            "Requirement already satisfied: certifi>=2017.4.17 in /usr/local/lib/python3.6/dist-packages (from requests>=2.22.0->investpy) (2020.6.20)\n",
            "Requirement already satisfied: six>=1.5 in /usr/local/lib/python3.6/dist-packages (from python-dateutil>=2.6.1->pandas>=0.25.1->investpy) (1.15.0)\n",
            "Building wheels for collected packages: investpy\n",
            "  Building wheel for investpy (setup.py) ... \u001b[?25l\u001b[?25hdone\n",
            "  Created wheel for investpy: filename=investpy-0.9.14-cp36-none-any.whl size=4469457 sha256=efebaad76c25cad290b8dce3342d63bffea3c682c4b47eb46d473f64befa480f\n",
            "  Stored in directory: /root/.cache/pip/wheels/86/35/ee/fc38f22f1353037b5118cff64b62aeed42f63f2c84135eaaaa\n",
            "Successfully built investpy\n",
            "Installing collected packages: Unidecode, lxml, investpy\n",
            "  Found existing installation: lxml 4.2.6\n",
            "    Uninstalling lxml-4.2.6:\n",
            "      Successfully uninstalled lxml-4.2.6\n",
            "Successfully installed Unidecode-1.1.1 investpy-0.9.14 lxml-4.5.2\n"
          ],
          "name": "stdout"
        }
      ]
    },
    {
      "cell_type": "code",
      "metadata": {
        "id": "GqKpLJumn2-v",
        "colab": {
          "base_uri": "https://localhost:8080/",
          "height": 72
        },
        "outputId": "9e8a42e6-701d-42c0-f410-e1e459d9d2aa"
      },
      "source": [
        "import tensorflow as tf\n",
        "from tensorflow import keras\n",
        "import matplotlib.pyplot as plt\n",
        "import statsmodels.tsa as ts\n",
        "from numpy import array\n",
        "from sklearn.preprocessing import MinMaxScaler\n",
        "from sklearn.metrics import mean_squared_error\n",
        "import investpy\n",
        "import numpy as np\n",
        "import pandas as pd\n",
        "import math"
      ],
      "execution_count": null,
      "outputs": [
        {
          "output_type": "stream",
          "text": [
            "/usr/local/lib/python3.6/dist-packages/statsmodels/tools/_testing.py:19: FutureWarning: pandas.util.testing is deprecated. Use the functions in the public API at pandas.testing instead.\n",
            "  import pandas.util.testing as tm\n"
          ],
          "name": "stderr"
        }
      ]
    },
    {
      "cell_type": "code",
      "metadata": {
        "id": "_0gvw2uIqI_T",
        "colab": {
          "base_uri": "https://localhost:8080/",
          "height": 406
        },
        "outputId": "948a6090-2d8c-4e91-bf8c-c0cad08fb75f"
      },
      "source": [
        " df = investpy.commodities.get_commodity_historical_data(commodity=\"MCX Mentha Oil\",\n",
        "                                                   from_date='19/12/2011',\n",
        "                                                   to_date='26/4/2020',\n",
        "                                                   country='india',\n",
        "                                                   order='ascending', interval='Daily')\n",
        " df = df.drop(columns=['Currency'])\n",
        " df['span'] = df['High'] - df['Low']\n",
        " df = df[df['Volume'] > 0]\n",
        " df = df.reset_index()\n",
        " df = df.drop(columns=['High' , 'Low'])\n",
        " df"
      ],
      "execution_count": null,
      "outputs": [
        {
          "output_type": "execute_result",
          "data": {
            "text/html": [
              "<div>\n",
              "<style scoped>\n",
              "    .dataframe tbody tr th:only-of-type {\n",
              "        vertical-align: middle;\n",
              "    }\n",
              "\n",
              "    .dataframe tbody tr th {\n",
              "        vertical-align: top;\n",
              "    }\n",
              "\n",
              "    .dataframe thead th {\n",
              "        text-align: right;\n",
              "    }\n",
              "</style>\n",
              "<table border=\"1\" class=\"dataframe\">\n",
              "  <thead>\n",
              "    <tr style=\"text-align: right;\">\n",
              "      <th></th>\n",
              "      <th>Date</th>\n",
              "      <th>Open</th>\n",
              "      <th>Close</th>\n",
              "      <th>Volume</th>\n",
              "      <th>span</th>\n",
              "    </tr>\n",
              "  </thead>\n",
              "  <tbody>\n",
              "    <tr>\n",
              "      <th>0</th>\n",
              "      <td>2011-12-19</td>\n",
              "      <td>1308.5</td>\n",
              "      <td>1315.0</td>\n",
              "      <td>2099</td>\n",
              "      <td>18.8</td>\n",
              "    </tr>\n",
              "    <tr>\n",
              "      <th>1</th>\n",
              "      <td>2011-12-20</td>\n",
              "      <td>1315.0</td>\n",
              "      <td>1295.3</td>\n",
              "      <td>2809</td>\n",
              "      <td>27.4</td>\n",
              "    </tr>\n",
              "    <tr>\n",
              "      <th>2</th>\n",
              "      <td>2011-12-21</td>\n",
              "      <td>1294.8</td>\n",
              "      <td>1297.6</td>\n",
              "      <td>2159</td>\n",
              "      <td>11.1</td>\n",
              "    </tr>\n",
              "    <tr>\n",
              "      <th>3</th>\n",
              "      <td>2011-12-22</td>\n",
              "      <td>1296.5</td>\n",
              "      <td>1291.8</td>\n",
              "      <td>3067</td>\n",
              "      <td>19.4</td>\n",
              "    </tr>\n",
              "    <tr>\n",
              "      <th>4</th>\n",
              "      <td>2011-12-23</td>\n",
              "      <td>1292.2</td>\n",
              "      <td>1307.8</td>\n",
              "      <td>2535</td>\n",
              "      <td>20.5</td>\n",
              "    </tr>\n",
              "    <tr>\n",
              "      <th>...</th>\n",
              "      <td>...</td>\n",
              "      <td>...</td>\n",
              "      <td>...</td>\n",
              "      <td>...</td>\n",
              "      <td>...</td>\n",
              "    </tr>\n",
              "    <tr>\n",
              "      <th>2150</th>\n",
              "      <td>2020-04-20</td>\n",
              "      <td>1268.9</td>\n",
              "      <td>1251.2</td>\n",
              "      <td>21</td>\n",
              "      <td>26.9</td>\n",
              "    </tr>\n",
              "    <tr>\n",
              "      <th>2151</th>\n",
              "      <td>2020-04-21</td>\n",
              "      <td>1279.9</td>\n",
              "      <td>1253.7</td>\n",
              "      <td>25</td>\n",
              "      <td>32.7</td>\n",
              "    </tr>\n",
              "    <tr>\n",
              "      <th>2152</th>\n",
              "      <td>2020-04-22</td>\n",
              "      <td>1231.2</td>\n",
              "      <td>1231.5</td>\n",
              "      <td>22</td>\n",
              "      <td>19.0</td>\n",
              "    </tr>\n",
              "    <tr>\n",
              "      <th>2153</th>\n",
              "      <td>2020-04-23</td>\n",
              "      <td>1245.0</td>\n",
              "      <td>1239.9</td>\n",
              "      <td>58</td>\n",
              "      <td>20.9</td>\n",
              "    </tr>\n",
              "    <tr>\n",
              "      <th>2154</th>\n",
              "      <td>2020-04-24</td>\n",
              "      <td>1238.0</td>\n",
              "      <td>1274.3</td>\n",
              "      <td>35</td>\n",
              "      <td>44.8</td>\n",
              "    </tr>\n",
              "  </tbody>\n",
              "</table>\n",
              "<p>2155 rows × 5 columns</p>\n",
              "</div>"
            ],
            "text/plain": [
              "           Date    Open   Close  Volume  span\n",
              "0    2011-12-19  1308.5  1315.0    2099  18.8\n",
              "1    2011-12-20  1315.0  1295.3    2809  27.4\n",
              "2    2011-12-21  1294.8  1297.6    2159  11.1\n",
              "3    2011-12-22  1296.5  1291.8    3067  19.4\n",
              "4    2011-12-23  1292.2  1307.8    2535  20.5\n",
              "...         ...     ...     ...     ...   ...\n",
              "2150 2020-04-20  1268.9  1251.2      21  26.9\n",
              "2151 2020-04-21  1279.9  1253.7      25  32.7\n",
              "2152 2020-04-22  1231.2  1231.5      22  19.0\n",
              "2153 2020-04-23  1245.0  1239.9      58  20.9\n",
              "2154 2020-04-24  1238.0  1274.3      35  44.8\n",
              "\n",
              "[2155 rows x 5 columns]"
            ]
          },
          "metadata": {
            "tags": []
          },
          "execution_count": 3
        }
      ]
    },
    {
      "cell_type": "code",
      "metadata": {
        "id": "iwlQjvx8s8c9",
        "colab": {
          "base_uri": "https://localhost:8080/",
          "height": 406
        },
        "outputId": "1453ebc1-dd1d-4202-dc6a-642915777660"
      },
      "source": [
        "dfs = investpy.commodities.get_commodity_historical_data(commodity=\"MCX Cardamom\",\n",
        "                                                   from_date='19/12/2011',\n",
        "                                                   to_date='26/4/2020',\n",
        "                                                   country='india',\n",
        "                                                   order='ascending', interval='Daily')\n",
        "dfs = dfs.reset_index()\n",
        "dfs = dfs.drop(columns=['Currency'])\n",
        "dfs['span'] = dfs['High'] - dfs['Low']\n",
        "dfs = dfs.drop(columns=['High' , 'Low'])\n",
        "dfs = dfs[dfs['Volume'] > 0]\n",
        "dfs = dfs[dfs.Date.isin(df.Date)]\n",
        "dfs"
      ],
      "execution_count": null,
      "outputs": [
        {
          "output_type": "execute_result",
          "data": {
            "text/html": [
              "<div>\n",
              "<style scoped>\n",
              "    .dataframe tbody tr th:only-of-type {\n",
              "        vertical-align: middle;\n",
              "    }\n",
              "\n",
              "    .dataframe tbody tr th {\n",
              "        vertical-align: top;\n",
              "    }\n",
              "\n",
              "    .dataframe thead th {\n",
              "        text-align: right;\n",
              "    }\n",
              "</style>\n",
              "<table border=\"1\" class=\"dataframe\">\n",
              "  <thead>\n",
              "    <tr style=\"text-align: right;\">\n",
              "      <th></th>\n",
              "      <th>Date</th>\n",
              "      <th>Open</th>\n",
              "      <th>Close</th>\n",
              "      <th>Volume</th>\n",
              "      <th>span</th>\n",
              "    </tr>\n",
              "  </thead>\n",
              "  <tbody>\n",
              "    <tr>\n",
              "      <th>0</th>\n",
              "      <td>2011-12-19</td>\n",
              "      <td>611.0</td>\n",
              "      <td>588.4</td>\n",
              "      <td>4227</td>\n",
              "      <td>24.9</td>\n",
              "    </tr>\n",
              "    <tr>\n",
              "      <th>1</th>\n",
              "      <td>2011-12-20</td>\n",
              "      <td>587.0</td>\n",
              "      <td>580.7</td>\n",
              "      <td>3147</td>\n",
              "      <td>19.0</td>\n",
              "    </tr>\n",
              "    <tr>\n",
              "      <th>2</th>\n",
              "      <td>2011-12-21</td>\n",
              "      <td>581.3</td>\n",
              "      <td>591.0</td>\n",
              "      <td>3372</td>\n",
              "      <td>18.9</td>\n",
              "    </tr>\n",
              "    <tr>\n",
              "      <th>3</th>\n",
              "      <td>2011-12-22</td>\n",
              "      <td>591.4</td>\n",
              "      <td>588.3</td>\n",
              "      <td>2165</td>\n",
              "      <td>10.8</td>\n",
              "    </tr>\n",
              "    <tr>\n",
              "      <th>4</th>\n",
              "      <td>2011-12-23</td>\n",
              "      <td>588.3</td>\n",
              "      <td>590.5</td>\n",
              "      <td>1404</td>\n",
              "      <td>6.4</td>\n",
              "    </tr>\n",
              "    <tr>\n",
              "      <th>...</th>\n",
              "      <td>...</td>\n",
              "      <td>...</td>\n",
              "      <td>...</td>\n",
              "      <td>...</td>\n",
              "      <td>...</td>\n",
              "    </tr>\n",
              "    <tr>\n",
              "      <th>2184</th>\n",
              "      <td>2020-04-07</td>\n",
              "      <td>2020.0</td>\n",
              "      <td>2031.2</td>\n",
              "      <td>24</td>\n",
              "      <td>58.0</td>\n",
              "    </tr>\n",
              "    <tr>\n",
              "      <th>2185</th>\n",
              "      <td>2020-04-08</td>\n",
              "      <td>2031.0</td>\n",
              "      <td>2048.4</td>\n",
              "      <td>5</td>\n",
              "      <td>29.0</td>\n",
              "    </tr>\n",
              "    <tr>\n",
              "      <th>2191</th>\n",
              "      <td>2020-04-20</td>\n",
              "      <td>1740.0</td>\n",
              "      <td>1735.5</td>\n",
              "      <td>2</td>\n",
              "      <td>9.0</td>\n",
              "    </tr>\n",
              "    <tr>\n",
              "      <th>2192</th>\n",
              "      <td>2020-04-21</td>\n",
              "      <td>1785.0</td>\n",
              "      <td>1785.0</td>\n",
              "      <td>1</td>\n",
              "      <td>0.0</td>\n",
              "    </tr>\n",
              "    <tr>\n",
              "      <th>2194</th>\n",
              "      <td>2020-04-23</td>\n",
              "      <td>1838.5</td>\n",
              "      <td>1785.0</td>\n",
              "      <td>2</td>\n",
              "      <td>107.0</td>\n",
              "    </tr>\n",
              "  </tbody>\n",
              "</table>\n",
              "<p>2125 rows × 5 columns</p>\n",
              "</div>"
            ],
            "text/plain": [
              "           Date    Open   Close  Volume   span\n",
              "0    2011-12-19   611.0   588.4    4227   24.9\n",
              "1    2011-12-20   587.0   580.7    3147   19.0\n",
              "2    2011-12-21   581.3   591.0    3372   18.9\n",
              "3    2011-12-22   591.4   588.3    2165   10.8\n",
              "4    2011-12-23   588.3   590.5    1404    6.4\n",
              "...         ...     ...     ...     ...    ...\n",
              "2184 2020-04-07  2020.0  2031.2      24   58.0\n",
              "2185 2020-04-08  2031.0  2048.4       5   29.0\n",
              "2191 2020-04-20  1740.0  1735.5       2    9.0\n",
              "2192 2020-04-21  1785.0  1785.0       1    0.0\n",
              "2194 2020-04-23  1838.5  1785.0       2  107.0\n",
              "\n",
              "[2125 rows x 5 columns]"
            ]
          },
          "metadata": {
            "tags": []
          },
          "execution_count": 4
        }
      ]
    },
    {
      "cell_type": "code",
      "metadata": {
        "id": "GH3uY70moaWX",
        "colab": {
          "base_uri": "https://localhost:8080/",
          "height": 34
        },
        "outputId": "8a95c370-0dc3-40d6-e2c9-61ad63e9ddc9"
      },
      "source": [
        "n = dfs.values\n",
        "n = n.reshape((n.shape[0], n.shape[1], 1))\n",
        "n.shape"
      ],
      "execution_count": null,
      "outputs": [
        {
          "output_type": "execute_result",
          "data": {
            "text/plain": [
              "(2125, 5, 1)"
            ]
          },
          "metadata": {
            "tags": []
          },
          "execution_count": 5
        }
      ]
    },
    {
      "cell_type": "code",
      "metadata": {
        "id": "Vso033fDoaa1",
        "colab": {
          "base_uri": "https://localhost:8080/",
          "height": 477
        },
        "outputId": "617a0a0c-1e71-45a7-e5b7-c784be2a2427"
      },
      "source": [
        "mcx = ['MCX Aluminum Mini','MCX Copper','MCX Gold Mini','MCX Lead Mini','MCX Nickel','MCX Silver Micro','MCX Zinc Mini',\"MCX Mentha Oil\",'MCX Cotton',\n",
        "       'MCX Crude Palm Oil','MCX Natural Gas']\n",
        "for i in mcx:\n",
        "  df2 = investpy.commodities.get_commodity_historical_data(commodity=i,\n",
        "                                                   from_date='19/12/2011',\n",
        "                                                   to_date='26/4/2020',\n",
        "                                                   country='india',\n",
        "                                                   order='ascending', interval='Daily')\n",
        "  df2 = df2.reset_index()\n",
        "  df2 = df2.drop(columns=['Currency'])\n",
        "  df2['span'] = df2['High'] - df2['Low']\n",
        "  df2 = df2[df2['Volume'] > 0]\n",
        "  df2 = df2.drop(columns=['High' , 'Low'])\n",
        "  df2 = df2[df2.Date.isin(df.Date)]\n",
        "  if(df2.shape[0] > 2125):\n",
        "    s =  df2.shape[0] - 2125\n",
        "    df2 = df2[s:]\n",
        "  card = df2.values\n",
        "  card = card.reshape((card.shape[0], card.shape[1], 1))\n",
        "  print(card.shape)\n",
        "  n = np.concatenate((n,card), axis = 2)\n",
        "  plt.plot(df2['Close'])\n",
        "plt.show()\n",
        "print(n.shape)"
      ],
      "execution_count": null,
      "outputs": [
        {
          "output_type": "stream",
          "text": [
            "(2125, 5, 1)\n",
            "(2125, 5, 1)\n",
            "(2125, 5, 1)\n",
            "(2125, 5, 1)\n",
            "(2125, 5, 1)\n",
            "(2125, 5, 1)\n",
            "(2125, 5, 1)\n",
            "(2125, 5, 1)\n",
            "(2125, 5, 1)\n",
            "(2125, 5, 1)\n",
            "(2125, 5, 1)\n"
          ],
          "name": "stdout"
        },
        {
          "output_type": "display_data",
          "data": {
            "image/png": "[encoded data removed]",
            "text/plain": [
              "<Figure size 432x288 with 1 Axes>"
            ]
          },
          "metadata": {
            "tags": [],
            "needs_background": "light"
          }
        },
        {
          "output_type": "stream",
          "text": [
            "(2125, 5, 12)\n"
          ],
          "name": "stdout"
        }
      ]
    },
    {
      "cell_type": "code",
      "metadata": {
        "id": "nlo7-DAVz1Ly",
        "colab": {
          "base_uri": "https://localhost:8080/",
          "height": 34
        },
        "outputId": "44d7f5fc-fa85-40a8-fe72-f4b7f040f6c2"
      },
      "source": [
        "n[2000][2][1]"
      ],
      "execution_count": null,
      "outputs": [
        {
          "output_type": "execute_result",
          "data": {
            "text/plain": [
              "129.15"
            ]
          },
          "metadata": {
            "tags": []
          },
          "execution_count": 7
        }
      ]
    },
    {
      "cell_type": "code",
      "metadata": {
        "id": "DGaZlaZttYg0",
        "colab": {
          "base_uri": "https://localhost:8080/",
          "height": 1000
        },
        "outputId": "823e0420-b864-46a0-da23-5f04db06cc7c"
      },
      "source": [
        "Final_testPredicts = np.array([])\n",
        "from keras.models import Sequential\n",
        "from keras.layers.recurrent import LSTM\n",
        "from keras.layers import Activation, Dense\n",
        "def create_dataset(dataset, look_back=1):\n",
        "\tdataX, dataY = [], []\n",
        "\tfor i in range(len(dataset)-look_back-1):\n",
        "\t\ta = dataset[i:(i+look_back), 0]\n",
        "\t\tdataX.append(a)\n",
        "\t\tdataY.append(dataset[i + look_back, 0])\n",
        "\treturn np.array(dataX), np.reshape((np.array(dataY)),(-1,1))\n",
        "\n",
        "for i in range (0,12):\n",
        "  dataset = np.array([])\n",
        "  for j in range(0,2125):\n",
        "    dataset = np.append (dataset,n[j][2][i])\n",
        "  dataset = dataset.astype('float32')\n",
        "  scaler = MinMaxScaler(feature_range=(0, 1))\n",
        "  dataset = scaler.fit_transform(np.reshape(dataset,(-1, 1)))\n",
        "  train_size = int(len(dataset) * 0.67)\n",
        "  test_size = len(dataset) - train_size\n",
        "  train, test = dataset[0:train_size,:], dataset[train_size:len(dataset),:]\n",
        "  print(len(train), len(test))\n",
        "  look_back = 20\n",
        "  trainX, trainY = create_dataset(train, look_back)\n",
        "  testX, testY = create_dataset(test, look_back)\n",
        "  trainX = np.reshape(trainX, (trainX.shape[0], 1, trainX.shape[1]))\n",
        "  testX = np.reshape(testX, (testX.shape[0], 1, testX.shape[1]))\n",
        "  model = Sequential()\n",
        "  model.add(LSTM(4, input_shape=(1,20)))\n",
        "  model.add(Dense(1))\n",
        "  model.compile(loss='mean_squared_error', optimizer='adam',metrics=[\"accuracy\"])\n",
        "  model.fit(trainX, trainY, epochs=10, batch_size=1, verbose=2)\n",
        "  trainPredict = model.predict(trainX)\n",
        "  testPredict = model.predict(testX)\n",
        "  trainPredict = scaler.inverse_transform(trainPredict)\n",
        "  trainY = scaler.inverse_transform(trainY)\n",
        "  testPredict = scaler.inverse_transform(testPredict)\n",
        "  testY = scaler.inverse_transform(testY)\n",
        "  trainPredictPlot = np.empty_like(dataset)\n",
        "  trainPredictPlot[:, :] = np.nan\n",
        "  trainPredictPlot[look_back:len(trainPredict)+look_back, :] = trainPredict\n",
        "  testPredictPlot = np.empty_like(dataset)\n",
        "  testPredictPlot[:, :] = np.nan\n",
        "  testPredictPlot[len(trainPredict)+(look_back*2)+1:len(dataset)-1, :] = testPredict\n",
        "  Final_testPredicts = np.append(Final_testPredicts, testPredict)\n",
        "  plt.plot(scaler.inverse_transform(dataset))\n",
        "  plt.plot(trainPredictPlot)\n",
        "  plt.plot(testPredictPlot)\n",
        "  testPredictPlot\n",
        "  plt.show()"
      ],
      "execution_count": null,
      "outputs": [
        {
          "output_type": "stream",
          "text": [
            "1423 702\n",
            "Epoch 1/10\n",
            "1402/1402 - 1s - loss: 0.0023 - accuracy: 7.1327e-04\n",
            "Epoch 2/10\n",
            "1402/1402 - 1s - loss: 3.1949e-04 - accuracy: 7.1327e-04\n",
            "Epoch 3/10\n",
            "1402/1402 - 1s - loss: 2.5103e-04 - accuracy: 7.1327e-04\n",
            "Epoch 4/10\n",
            "1402/1402 - 2s - loss: 2.2042e-04 - accuracy: 7.1327e-04\n",
            "Epoch 5/10\n",
            "1402/1402 - 1s - loss: 1.8977e-04 - accuracy: 7.1327e-04\n",
            "Epoch 6/10\n",
            "1402/1402 - 1s - loss: 1.8240e-04 - accuracy: 7.1327e-04\n",
            "Epoch 7/10\n",
            "1402/1402 - 1s - loss: 1.8346e-04 - accuracy: 7.1327e-04\n",
            "Epoch 8/10\n",
            "1402/1402 - 1s - loss: 1.7496e-04 - accuracy: 7.1327e-04\n",
            "Epoch 9/10\n",
            "1402/1402 - 1s - loss: 1.7460e-04 - accuracy: 7.1327e-04\n",
            "Epoch 10/10\n",
            "1402/1402 - 1s - loss: 1.6755e-04 - accuracy: 7.1327e-04\n"
          ],
          "name": "stdout"
        },
        {
          "output_type": "display_data",
          "data": {
            "image/png": "[encoded data removed]",
            "text/plain": [
              "<Figure size 432x288 with 1 Axes>"
            ]
          },
          "metadata": {
            "tags": [],
            "needs_background": "light"
          }
        },
        {
          "output_type": "stream",
          "text": [
            "1423 702\n",
            "Epoch 1/10\n",
            "1402/1402 - 1s - loss: 0.0026 - accuracy: 0.0000e+00\n",
            "Epoch 2/10\n",
            "1402/1402 - 1s - loss: 7.8036e-04 - accuracy: 0.0000e+00\n",
            "Epoch 3/10\n",
            "1402/1402 - 1s - loss: 7.2126e-04 - accuracy: 0.0000e+00\n",
            "Epoch 4/10\n",
            "1402/1402 - 1s - loss: 7.1794e-04 - accuracy: 0.0000e+00\n",
            "Epoch 5/10\n",
            "1402/1402 - 1s - loss: 6.4868e-04 - accuracy: 0.0000e+00\n",
            "Epoch 6/10\n",
            "1402/1402 - 1s - loss: 6.5645e-04 - accuracy: 0.0000e+00\n",
            "Epoch 7/10\n",
            "1402/1402 - 2s - loss: 6.0458e-04 - accuracy: 0.0000e+00\n",
            "Epoch 8/10\n",
            "1402/1402 - 1s - loss: 5.9585e-04 - accuracy: 0.0000e+00\n",
            "Epoch 9/10\n",
            "1402/1402 - 1s - loss: 5.8355e-04 - accuracy: 0.0000e+00\n",
            "Epoch 10/10\n",
            "1402/1402 - 1s - loss: 5.8594e-04 - accuracy: 0.0000e+00\n"
          ],
          "name": "stdout"
        },
        {
          "output_type": "display_data",
          "data": {
            "image/png": "[encoded data removed]",
            "text/plain": [
              "<Figure size 432x288 with 1 Axes>"
            ]
          },
          "metadata": {
            "tags": [],
            "needs_background": "light"
          }
        },
        {
          "output_type": "stream",
          "text": [
            "1423 702\n",
            "Epoch 1/10\n",
            "1402/1402 - 1s - loss: 0.0156 - accuracy: 7.1327e-04\n",
            "Epoch 2/10\n",
            "1402/1402 - 1s - loss: 0.0017 - accuracy: 7.1327e-04\n",
            "Epoch 3/10\n",
            "1402/1402 - 2s - loss: 0.0015 - accuracy: 7.1327e-04\n",
            "Epoch 4/10\n",
            "1402/1402 - 1s - loss: 0.0013 - accuracy: 7.1327e-04\n",
            "Epoch 5/10\n",
            "1402/1402 - 1s - loss: 0.0012 - accuracy: 7.1327e-04\n",
            "Epoch 6/10\n",
            "1402/1402 - 1s - loss: 0.0012 - accuracy: 7.1327e-04\n",
            "Epoch 7/10\n",
            "1402/1402 - 1s - loss: 0.0011 - accuracy: 7.1327e-04\n",
            "Epoch 8/10\n",
            "1402/1402 - 1s - loss: 0.0011 - accuracy: 7.1327e-04\n",
            "Epoch 9/10\n",
            "1402/1402 - 1s - loss: 0.0011 - accuracy: 7.1327e-04\n",
            "Epoch 10/10\n",
            "1402/1402 - 1s - loss: 9.9525e-04 - accuracy: 7.1327e-04\n"
          ],
          "name": "stdout"
        },
        {
          "output_type": "display_data",
          "data": {
            "image/png": "[encoded data removed]",
            "text/plain": [
              "<Figure size 432x288 with 1 Axes>"
            ]
          },
          "metadata": {
            "tags": [],
            "needs_background": "light"
          }
        },
        {
          "output_type": "stream",
          "text": [
            "1423 702\n",
            "Epoch 1/10\n",
            "1402/1402 - 1s - loss: 0.0066 - accuracy: 0.0000e+00\n",
            "Epoch 2/10\n",
            "1402/1402 - 2s - loss: 6.0776e-04 - accuracy: 0.0000e+00\n",
            "Epoch 3/10\n",
            "1402/1402 - 1s - loss: 5.8650e-04 - accuracy: 0.0000e+00\n",
            "Epoch 4/10\n",
            "1402/1402 - 1s - loss: 5.8746e-04 - accuracy: 0.0000e+00\n",
            "Epoch 5/10\n",
            "1402/1402 - 1s - loss: 5.6379e-04 - accuracy: 0.0000e+00\n",
            "Epoch 6/10\n",
            "1402/1402 - 1s - loss: 5.6185e-04 - accuracy: 0.0000e+00\n",
            "Epoch 7/10\n",
            "1402/1402 - 2s - loss: 5.0625e-04 - accuracy: 0.0000e+00\n",
            "Epoch 8/10\n",
            "1402/1402 - 1s - loss: 5.1347e-04 - accuracy: 0.0000e+00\n",
            "Epoch 9/10\n",
            "1402/1402 - 2s - loss: 5.0171e-04 - accuracy: 0.0000e+00\n",
            "Epoch 10/10\n",
            "1402/1402 - 1s - loss: 5.0631e-04 - accuracy: 0.0000e+00\n"
          ],
          "name": "stdout"
        },
        {
          "output_type": "display_data",
          "data": {
            "image/png": "[encoded data removed]",
            "text/plain": [
              "<Figure size 432x288 with 1 Axes>"
            ]
          },
          "metadata": {
            "tags": [],
            "needs_background": "light"
          }
        },
        {
          "output_type": "stream",
          "text": [
            "1423 702\n",
            "Epoch 1/10\n",
            "1402/1402 - 1s - loss: 0.0125 - accuracy: 0.0000e+00\n",
            "Epoch 2/10\n",
            "1402/1402 - 1s - loss: 0.0010 - accuracy: 0.0000e+00\n",
            "Epoch 3/10\n",
            "1402/1402 - 2s - loss: 8.4976e-04 - accuracy: 0.0000e+00\n",
            "Epoch 4/10\n",
            "1402/1402 - 2s - loss: 8.4732e-04 - accuracy: 0.0000e+00\n",
            "Epoch 5/10\n",
            "1402/1402 - 2s - loss: 8.1000e-04 - accuracy: 0.0000e+00\n",
            "Epoch 6/10\n",
            "1402/1402 - 2s - loss: 7.7067e-04 - accuracy: 0.0000e+00\n",
            "Epoch 7/10\n",
            "1402/1402 - 2s - loss: 7.6815e-04 - accuracy: 0.0000e+00\n",
            "Epoch 8/10\n",
            "1402/1402 - 2s - loss: 7.4216e-04 - accuracy: 0.0000e+00\n",
            "Epoch 9/10\n",
            "1402/1402 - 2s - loss: 7.5123e-04 - accuracy: 0.0000e+00\n",
            "Epoch 10/10\n",
            "1402/1402 - 2s - loss: 7.0468e-04 - accuracy: 0.0000e+00\n"
          ],
          "name": "stdout"
        },
        {
          "output_type": "display_data",
          "data": {
            "image/png": "[encoded data removed]",
            "text/plain": [
              "<Figure size 432x288 with 1 Axes>"
            ]
          },
          "metadata": {
            "tags": [],
            "needs_background": "light"
          }
        },
        {
          "output_type": "stream",
          "text": [
            "1423 702\n",
            "Epoch 1/10\n",
            "1402/1402 - 1s - loss: 0.0140 - accuracy: 0.0000e+00\n",
            "Epoch 2/10\n",
            "1402/1402 - 1s - loss: 0.0010 - accuracy: 0.0000e+00\n",
            "Epoch 3/10\n",
            "1402/1402 - 1s - loss: 0.0010 - accuracy: 0.0000e+00\n",
            "Epoch 4/10\n",
            "1402/1402 - 1s - loss: 9.9929e-04 - accuracy: 0.0000e+00\n",
            "Epoch 5/10\n",
            "1402/1402 - 2s - loss: 0.0010 - accuracy: 0.0000e+00\n",
            "Epoch 6/10\n",
            "1402/1402 - 2s - loss: 9.6365e-04 - accuracy: 0.0000e+00\n",
            "Epoch 7/10\n",
            "1402/1402 - 1s - loss: 9.6564e-04 - accuracy: 0.0000e+00\n",
            "Epoch 8/10\n",
            "1402/1402 - 2s - loss: 9.2022e-04 - accuracy: 0.0000e+00\n",
            "Epoch 9/10\n",
            "1402/1402 - 1s - loss: 9.3117e-04 - accuracy: 0.0000e+00\n",
            "Epoch 10/10\n",
            "1402/1402 - 1s - loss: 9.2421e-04 - accuracy: 0.0000e+00\n"
          ],
          "name": "stdout"
        },
        {
          "output_type": "display_data",
          "data": {
            "image/png": "[encoded data removed]",
            "text/plain": [
              "<Figure size 432x288 with 1 Axes>"
            ]
          },
          "metadata": {
            "tags": [],
            "needs_background": "light"
          }
        },
        {
          "output_type": "stream",
          "text": [
            "1423 702\n",
            "Epoch 1/10\n",
            "1402/1402 - 1s - loss: 0.0211 - accuracy: 7.1327e-04\n",
            "Epoch 2/10\n",
            "1402/1402 - 1s - loss: 0.0019 - accuracy: 7.1327e-04\n",
            "Epoch 3/10\n",
            "1402/1402 - 1s - loss: 0.0017 - accuracy: 7.1327e-04\n",
            "Epoch 4/10\n",
            "1402/1402 - 1s - loss: 0.0014 - accuracy: 7.1327e-04\n",
            "Epoch 5/10\n",
            "1402/1402 - 1s - loss: 0.0013 - accuracy: 7.1327e-04\n",
            "Epoch 6/10\n",
            "1402/1402 - 1s - loss: 0.0013 - accuracy: 7.1327e-04\n",
            "Epoch 7/10\n",
            "1402/1402 - 1s - loss: 0.0012 - accuracy: 7.1327e-04\n",
            "Epoch 8/10\n",
            "1402/1402 - 1s - loss: 0.0012 - accuracy: 7.1327e-04\n",
            "Epoch 9/10\n",
            "1402/1402 - 1s - loss: 0.0012 - accuracy: 7.1327e-04\n",
            "Epoch 10/10\n",
            "1402/1402 - 2s - loss: 0.0012 - accuracy: 7.1327e-04\n"
          ],
          "name": "stdout"
        },
        {
          "output_type": "display_data",
          "data": {
            "image/png": "[encoded data removed]",
            "text/plain": [
              "<Figure size 432x288 with 1 Axes>"
            ]
          },
          "metadata": {
            "tags": [],
            "needs_background": "light"
          }
        },
        {
          "output_type": "stream",
          "text": [
            "1423 702\n",
            "Epoch 1/10\n",
            "1402/1402 - 1s - loss: 0.0060 - accuracy: 7.1327e-04\n",
            "Epoch 2/10\n",
            "1402/1402 - 1s - loss: 6.2036e-04 - accuracy: 7.1327e-04\n",
            "Epoch 3/10\n",
            "1402/1402 - 2s - loss: 5.8156e-04 - accuracy: 7.1327e-04\n",
            "Epoch 4/10\n",
            "1402/1402 - 1s - loss: 4.8456e-04 - accuracy: 7.1327e-04\n",
            "Epoch 5/10\n",
            "1402/1402 - 1s - loss: 4.5328e-04 - accuracy: 7.1327e-04\n",
            "Epoch 6/10\n",
            "1402/1402 - 2s - loss: 4.5374e-04 - accuracy: 7.1327e-04\n",
            "Epoch 7/10\n",
            "1402/1402 - 1s - loss: 4.2899e-04 - accuracy: 7.1327e-04\n",
            "Epoch 8/10\n",
            "1402/1402 - 2s - loss: 4.1660e-04 - accuracy: 7.1327e-04\n",
            "Epoch 9/10\n",
            "1402/1402 - 2s - loss: 4.1130e-04 - accuracy: 7.1327e-04\n",
            "Epoch 10/10\n",
            "1402/1402 - 2s - loss: 3.8119e-04 - accuracy: 7.1327e-04\n"
          ],
          "name": "stdout"
        },
        {
          "output_type": "display_data",
          "data": {
            "image/png": "[encoded data removed]",
            "text/plain": [
              "<Figure size 432x288 with 1 Axes>"
            ]
          },
          "metadata": {
            "tags": [],
            "needs_background": "light"
          }
        },
        {
          "output_type": "stream",
          "text": [
            "1423 702\n",
            "Epoch 1/10\n",
            "1402/1402 - 1s - loss: 0.0065 - accuracy: 7.1327e-04\n",
            "Epoch 2/10\n",
            "1402/1402 - 1s - loss: 0.0017 - accuracy: 7.1327e-04\n",
            "Epoch 3/10\n",
            "1402/1402 - 2s - loss: 0.0015 - accuracy: 7.1327e-04\n",
            "Epoch 4/10\n",
            "1402/1402 - 1s - loss: 0.0015 - accuracy: 7.1327e-04\n",
            "Epoch 5/10\n",
            "1402/1402 - 1s - loss: 0.0014 - accuracy: 7.1327e-04\n",
            "Epoch 6/10\n",
            "1402/1402 - 1s - loss: 0.0014 - accuracy: 7.1327e-04\n",
            "Epoch 7/10\n",
            "1402/1402 - 1s - loss: 0.0013 - accuracy: 7.1327e-04\n",
            "Epoch 8/10\n",
            "1402/1402 - 1s - loss: 0.0013 - accuracy: 7.1327e-04\n",
            "Epoch 9/10\n",
            "1402/1402 - 1s - loss: 0.0013 - accuracy: 7.1327e-04\n",
            "Epoch 10/10\n",
            "1402/1402 - 2s - loss: 0.0013 - accuracy: 7.1327e-04\n"
          ],
          "name": "stdout"
        },
        {
          "output_type": "display_data",
          "data": {
            "image/png": "[encoded data removed]",
            "text/plain": [
              "<Figure size 432x288 with 1 Axes>"
            ]
          },
          "metadata": {
            "tags": [],
            "needs_background": "light"
          }
        },
        {
          "output_type": "stream",
          "text": [
            "1423 702\n",
            "Epoch 1/10\n",
            "1402/1402 - 1s - loss: 0.0078 - accuracy: 0.0000e+00\n",
            "Epoch 2/10\n",
            "1402/1402 - 1s - loss: 0.0015 - accuracy: 0.0000e+00\n",
            "Epoch 3/10\n",
            "1402/1402 - 1s - loss: 0.0015 - accuracy: 0.0000e+00\n",
            "Epoch 4/10\n",
            "1402/1402 - 1s - loss: 0.0013 - accuracy: 0.0000e+00\n",
            "Epoch 5/10\n",
            "1402/1402 - 1s - loss: 0.0014 - accuracy: 0.0000e+00\n",
            "Epoch 6/10\n",
            "1402/1402 - 1s - loss: 0.0014 - accuracy: 0.0000e+00\n",
            "Epoch 7/10\n",
            "1402/1402 - 1s - loss: 0.0013 - accuracy: 0.0000e+00\n",
            "Epoch 8/10\n",
            "1402/1402 - 2s - loss: 0.0013 - accuracy: 0.0000e+00\n",
            "Epoch 9/10\n",
            "1402/1402 - 1s - loss: 0.0013 - accuracy: 0.0000e+00\n",
            "Epoch 10/10\n",
            "1402/1402 - 2s - loss: 0.0013 - accuracy: 0.0000e+00\n"
          ],
          "name": "stdout"
        },
        {
          "output_type": "display_data",
          "data": {
            "image/png": "[encoded data removed]",
            "text/plain": [
              "<Figure size 432x288 with 1 Axes>"
            ]
          },
          "metadata": {
            "tags": [],
            "needs_background": "light"
          }
        },
        {
          "output_type": "stream",
          "text": [
            "1423 702\n",
            "Epoch 1/10\n",
            "1402/1402 - 1s - loss: 0.0149 - accuracy: 0.0000e+00\n",
            "Epoch 2/10\n",
            "1402/1402 - 1s - loss: 0.0011 - accuracy: 0.0000e+00\n",
            "Epoch 3/10\n",
            "1402/1402 - 2s - loss: 9.7131e-04 - accuracy: 0.0000e+00\n",
            "Epoch 4/10\n",
            "1402/1402 - 1s - loss: 9.3026e-04 - accuracy: 0.0000e+00\n",
            "Epoch 5/10\n",
            "1402/1402 - 1s - loss: 8.2612e-04 - accuracy: 0.0000e+00\n",
            "Epoch 6/10\n",
            "1402/1402 - 1s - loss: 7.7777e-04 - accuracy: 0.0000e+00\n",
            "Epoch 7/10\n",
            "1402/1402 - 1s - loss: 7.9035e-04 - accuracy: 0.0000e+00\n",
            "Epoch 8/10\n",
            "1402/1402 - 2s - loss: 7.1686e-04 - accuracy: 0.0000e+00\n",
            "Epoch 9/10\n",
            "1402/1402 - 2s - loss: 7.2699e-04 - accuracy: 0.0000e+00\n",
            "Epoch 10/10\n",
            "1402/1402 - 2s - loss: 7.3047e-04 - accuracy: 0.0000e+00\n"
          ],
          "name": "stdout"
        },
        {
          "output_type": "display_data",
          "data": {
            "image/png": "[encoded data removed]",
            "text/plain": [
              "<Figure size 432x288 with 1 Axes>"
            ]
          },
          "metadata": {
            "tags": [],
            "needs_background": "light"
          }
        },
        {
          "output_type": "stream",
          "text": [
            "1423 702\n",
            "Epoch 1/10\n",
            "1402/1402 - 2s - loss: 0.0049 - accuracy: 0.0014\n",
            "Epoch 2/10\n",
            "1402/1402 - 2s - loss: 0.0013 - accuracy: 0.0014\n",
            "Epoch 3/10\n",
            "1402/1402 - 2s - loss: 0.0011 - accuracy: 0.0014\n",
            "Epoch 4/10\n",
            "1402/1402 - 2s - loss: 8.8817e-04 - accuracy: 0.0014\n",
            "Epoch 5/10\n",
            "1402/1402 - 2s - loss: 7.8111e-04 - accuracy: 0.0014\n",
            "Epoch 6/10\n",
            "1402/1402 - 2s - loss: 7.1802e-04 - accuracy: 0.0014\n",
            "Epoch 7/10\n",
            "1402/1402 - 2s - loss: 6.6344e-04 - accuracy: 0.0014\n",
            "Epoch 8/10\n",
            "1402/1402 - 2s - loss: 6.0037e-04 - accuracy: 0.0014\n",
            "Epoch 9/10\n",
            "1402/1402 - 2s - loss: 5.9550e-04 - accuracy: 0.0014\n",
            "Epoch 10/10\n",
            "1402/1402 - 2s - loss: 5.4348e-04 - accuracy: 0.0014\n"
          ],
          "name": "stdout"
        },
        {
          "output_type": "display_data",
          "data": {
            "image/png": "[encoded data removed]",
            "text/plain": [
              "<Figure size 432x288 with 1 Axes>"
            ]
          },
          "metadata": {
            "tags": [],
            "needs_background": "light"
          }
        }
      ]
    },
    {
      "cell_type": "code",
      "metadata": {
        "id": "MkRHB7LUyELc",
        "colab": {
          "base_uri": "https://localhost:8080/",
          "height": 34
        },
        "outputId": "03082395-a176-4e81-bb20-c24f963e69db"
      },
      "source": [
        "Final_testPredicts.shape"
      ],
      "execution_count": null,
      "outputs": [
        {
          "output_type": "execute_result",
          "data": {
            "text/plain": [
              "(8172,)"
            ]
          },
          "metadata": {
            "tags": []
          },
          "execution_count": 47
        }
      ]
    },
    {
      "cell_type": "code",
      "metadata": {
        "id": "0JmiCR7D_bAO"
      },
      "source": [
        "Final_testPredicts = np.reshape(Final_testPredicts, [12,681])\n",
        "Final_testPredicts[0]"
      ],
      "execution_count": null,
      "outputs": []
    },
    {
      "cell_type": "code",
      "metadata": {
        "id": "JDj4S5fb1-Rk",
        "colab": {
          "base_uri": "https://localhost:8080/",
          "height": 622
        },
        "outputId": "846bd1e4-0cce-4d8c-fd1f-4419c0c7518d"
      },
      "source": [
        "from fastdtw import fastdtw\n",
        "from scipy.spatial.distance import euclidean\n",
        "final_matrix = np.empty((12,12))\n",
        "for i in range(12):\n",
        "  matrix = np.array([])\n",
        "  for j in range(12):\n",
        "    distance, path = fastdtw(Final_testPredicts[i], Final_testPredicts[j] , dist=euclidean)\n",
        "    matrix = np.append(matrix,distance)\n",
        "    final_matrix[i][j] = distance\n",
        "final_matrix"
      ],
      "execution_count": null,
      "outputs": [
        {
          "output_type": "execute_result",
          "data": {
            "text/plain": [
              "array([[0.00000000e+00, 1.03827648e+06, 8.40458425e+05, 2.02854970e+07,\n",
              "        1.03079846e+06, 4.48552709e+05, 2.63188320e+07, 9.98629418e+05,\n",
              "        3.80387624e+05, 1.25068084e+07, 7.45593091e+05, 1.00655894e+06],\n",
              "       [1.03827648e+06, 0.00000000e+00, 1.97818054e+05, 2.13237735e+07,\n",
              "        4.33042378e+03, 5.07023963e+05, 2.73571084e+07, 3.96344156e+04,\n",
              "        8.22593624e+05, 1.35450849e+07, 2.92683388e+05, 3.00381835e+04],\n",
              "       [8.40458425e+05, 1.97818054e+05, 0.00000000e+00, 2.11259554e+07,\n",
              "        1.90340032e+05, 3.09205909e+05, 2.71592904e+07, 1.58170994e+05,\n",
              "        6.24775569e+05, 1.33472669e+07, 9.48653336e+04, 1.66100519e+05],\n",
              "       [2.02854970e+07, 2.13237735e+07, 2.11259554e+07, 0.00000000e+00,\n",
              "        2.13162954e+07, 2.08167495e+07, 5.34404021e+06, 2.12841264e+07,\n",
              "        2.05011798e+07, 7.77868854e+06, 2.10310901e+07, 2.12920559e+07],\n",
              "       [1.03079846e+06, 4.29180301e+03, 1.90340032e+05, 2.13162954e+07,\n",
              "        0.00000000e+00, 4.99545940e+05, 2.73496304e+07, 3.10136736e+04,\n",
              "        8.15115601e+05, 1.35376069e+07, 2.85205365e+05, 2.12870745e+04],\n",
              "       [4.48564862e+05, 5.07023963e+05, 3.09205909e+05, 2.08167495e+07,\n",
              "        4.99545940e+05, 0.00000000e+00, 2.68500845e+07, 4.67376902e+05,\n",
              "        1.78599197e+05, 1.30380610e+07, 1.89609603e+05, 4.75306428e+05],\n",
              "       [2.63188320e+07, 2.73571084e+07, 2.71592904e+07, 5.57713096e+06,\n",
              "        2.73496304e+07, 2.68500845e+07, 0.00000000e+00, 2.73174614e+07,\n",
              "        2.65345148e+07, 1.38120235e+07, 2.70644251e+07, 2.73253909e+07],\n",
              "       [9.98629418e+05, 3.96302006e+04, 1.58170994e+05, 2.12841264e+07,\n",
              "        3.07357566e+04, 4.67376902e+05, 2.73174614e+07, 0.00000000e+00,\n",
              "        7.82946563e+05, 1.35054379e+07, 2.53036327e+05, 9.37326447e+03],\n",
              "       [3.80331612e+05, 8.22593624e+05, 6.24775569e+05, 2.05011798e+07,\n",
              "        8.15115601e+05, 2.09845503e+05, 2.65345148e+07, 7.82946563e+05,\n",
              "        0.00000000e+00, 1.27224913e+07, 5.29910236e+05, 7.90876089e+05],\n",
              "       [1.25068084e+07, 1.35450849e+07, 1.33472669e+07, 7.77868854e+06,\n",
              "        1.35376069e+07, 1.30380610e+07, 1.38120235e+07, 1.35054379e+07,\n",
              "        1.27224913e+07, 0.00000000e+00, 1.32524015e+07, 1.35133674e+07],\n",
              "       [7.45593091e+05, 2.92683388e+05, 9.48653336e+04, 2.10310901e+07,\n",
              "        2.85205365e+05, 1.83340015e+05, 2.70644251e+07, 2.53036327e+05,\n",
              "        5.29910236e+05, 1.32524015e+07, 0.00000000e+00, 2.60965853e+05],\n",
              "       [1.00655894e+06, 2.94064492e+04, 1.66100519e+05, 2.12920559e+07,\n",
              "        2.12783391e+04, 4.75306428e+05, 2.73253909e+07, 8.72290038e+03,\n",
              "        7.90876089e+05, 1.35133674e+07, 2.60965853e+05, 0.00000000e+00]])"
            ]
          },
          "metadata": {
            "tags": []
          },
          "execution_count": 83
        }
      ]
    },
    {
      "cell_type": "code",
      "metadata": {
        "id": "TOdm65O5Bh8_",
        "colab": {
          "base_uri": "https://localhost:8080/",
          "height": 34
        },
        "outputId": "8781aaee-8076-4e04-a024-996481b25666"
      },
      "source": [
        "final_matrix.shape"
      ],
      "execution_count": null,
      "outputs": [
        {
          "output_type": "execute_result",
          "data": {
            "text/plain": [
              "(12, 12)"
            ]
          },
          "metadata": {
            "tags": []
          },
          "execution_count": 50
        }
      ]
    },
    {
      "cell_type": "code",
      "metadata": {
        "id": "Ib8QwTbjBKm-",
        "colab": {
          "base_uri": "https://localhost:8080/",
          "height": 338
        },
        "outputId": "7a49407b-8899-48ad-f726-c7711657a251"
      },
      "source": [
        "import numpy as np\n",
        "from scipy.cluster.hierarchy import dendrogram, linkage\n",
        "from scipy.spatial.distance import squareform\n",
        "from scipy.spatial.distance import pdist\n",
        "import matplotlib.pyplot as plt\n",
        "mat = final_matrix\n",
        "dists = squareform(pdist(mat))\n",
        "linkage_matrix = linkage(dists, \"complete\")\n",
        "dendrogram(linkage_matrix, labels=[\"CR\",\"Al\",\"CO\",\"G\",\"L\",\"N\",\"S\",\"Z\",\"MO\",\"C\",\"CPO\",\"NG\"])\n",
        "plt.title(\"Complete Link\")\n",
        "plt.show()"
      ],
      "execution_count": null,
      "outputs": [
        {
          "output_type": "stream",
          "text": [
            "/usr/local/lib/python3.6/dist-packages/ipykernel_launcher.py:8: ClusterWarning: scipy.cluster: The symmetric non-negative hollow observation matrix looks suspiciously like an uncondensed distance matrix\n",
            "  \n"
          ],
          "name": "stderr"
        },
        {
          "output_type": "display_data",
          "data": {
            "image/png": "[encoded data removed]",
            "text/plain": [
              "<Figure size 432x288 with 1 Axes>"
            ]
          },
          "metadata": {
            "tags": [],
            "needs_background": "light"
          }
        }
      ]
    },
    {
      "cell_type": "code",
      "metadata": {
        "id": "LSemQH1e9kOX"
      },
      "source": [
        "Final_Volume_Predicts = np.array([])\n",
        "from keras.models import Sequential\n",
        "from keras.layers.recurrent import LSTM\n",
        "from keras.layers import Activation, Dense\n",
        "def create_dataset(dataset, look_back=1):\n",
        "\tdataX, dataY = [], []\n",
        "\tfor i in range(len(dataset)-look_back-1):\n",
        "\t\ta = dataset[i:(i+look_back), 0]\n",
        "\t\tdataX.append(a)\n",
        "\t\tdataY.append(dataset[i + look_back, 0])\n",
        "\treturn np.array(dataX), np.reshape((np.array(dataY)),(-1,1))\n",
        "\n",
        "for i in range (0,12):\n",
        "  dataset = np.array([])\n",
        "  for j in range(0,2125):\n",
        "    dataset = np.append (dataset,n[j][3][i])\n",
        "  dataset = dataset.astype('float32')\n",
        "  scaler = MinMaxScaler(feature_range=(0, 1))\n",
        "  dataset = scaler.fit_transform(np.reshape(dataset,(-1, 1)))\n",
        "  train_size = int(len(dataset) * 0.67)\n",
        "  test_size = len(dataset) - train_size\n",
        "  train, test = dataset[0:train_size,:], dataset[train_size:len(dataset),:]\n",
        "  print(len(train), len(test))\n",
        "  look_back = 20\n",
        "  trainX, trainY = create_dataset(train, look_back)\n",
        "  testX, testY = create_dataset(test, look_back)\n",
        "  trainX = np.reshape(trainX, (trainX.shape[0], 1, trainX.shape[1]))\n",
        "  testX = np.reshape(testX, (testX.shape[0], 1, testX.shape[1]))\n",
        "  model = Sequential()\n",
        "  model.add(LSTM(4, input_shape=(1,20)))\n",
        "  model.add(Dense(1))\n",
        "  model.compile(loss='mean_squared_error', optimizer='adam',metrics=[\"accuracy\"])\n",
        "  model.fit(trainX, trainY, epochs=10, batch_size=1, verbose=2)\n",
        "  trainPredict = model.predict(trainX)\n",
        "  testPredict = model.predict(testX)\n",
        "  trainPredict = scaler.inverse_transform(trainPredict)\n",
        "  trainY = scaler.inverse_transform(trainY)\n",
        "  testPredict = scaler.inverse_transform(testPredict)\n",
        "  testY = scaler.inverse_transform(testY)\n",
        "  trainPredictPlot = np.empty_like(dataset)\n",
        "  trainPredictPlot[:, :] = np.nan\n",
        "  trainPredictPlot[look_back:len(trainPredict)+look_back, :] = trainPredict\n",
        "  testPredictPlot = np.empty_like(dataset)\n",
        "  testPredictPlot[:, :] = np.nan\n",
        "  testPredictPlot[len(trainPredict)+(look_back*2)+1:len(dataset)-1, :] = testPredict\n",
        "  Final_Volume_Predicts = np.append(Final_Volume_Predicts, testPredict)\n",
        "  plt.plot(scaler.inverse_transform(dataset))\n",
        "  plt.plot(trainPredictPlot)\n",
        "  plt.plot(testPredictPlot)\n",
        "  testPredictPlot\n",
        "  plt.show()"
      ],
      "execution_count": null,
      "outputs": []
    },
    {
      "cell_type": "code",
      "metadata": {
        "id": "WcsOtpk_-sbq"
      },
      "source": [
        "# Final_Volume_Predicts = np.reshape(Final_Volume_Predicts, [12,681])\n",
        "# Final_Volume_Predicts.shape\n",
        "Final_Volume = np.empty((12,681))\n",
        "for i in range(12):\n",
        "  for j in range(681):\n",
        "    Final_Volume[i][j] = n[j+1443][3][i]\n",
        "\n",
        "Final_Volume_Predicts = Final_Volume"
      ],
      "execution_count": null,
      "outputs": []
    },
    {
      "cell_type": "code",
      "metadata": {
        "id": "fFKUwP6lJeSG",
        "colab": {
          "base_uri": "https://localhost:8080/",
          "height": 34
        },
        "outputId": "46ce42e4-8798-4f1c-8bfb-2a4c789551dc"
      },
      "source": [
        "Final_Dates = dfs.Date[1444:]\n",
        "Final_Dates.shape"
      ],
      "execution_count": null,
      "outputs": [
        {
          "output_type": "execute_result",
          "data": {
            "text/plain": [
              "(681,)"
            ]
          },
          "metadata": {
            "tags": []
          },
          "execution_count": 53
        }
      ]
    },
    {
      "cell_type": "code",
      "metadata": {
        "id": "tWhr4RmHH-Al"
      },
      "source": [
        "Final_Price = np.empty((12,681))\n",
        "for i in range(12):\n",
        "  for j in range(681):\n",
        "    Final_Price[i][j] = n[j+1443][2][i]\n",
        "\n",
        "Final_Price_Predicts = Final_Price"
      ],
      "execution_count": null,
      "outputs": []
    },
    {
      "cell_type": "code",
      "metadata": {
        "id": "M0tTxa1o-xOg"
      },
      "source": [
        "# [\"CR\",\"Al\",\"CO\",\"G\",\"L\",\"N\",\"S\",\"Z\",\"MO\",\"C\",\"CPO\",\"NG\"][\"CR , MO\", \"C , G , S\" ,\"N\",\"L,AL,Z,NG \", \"CO,CPO\" ]\n",
        "Cardamom = Final_testPredicts[0]\n",
        "Al = Final_testPredicts[1]\n",
        "Copper = Final_testPredicts[2]\n",
        "Gold = Final_testPredicts[3]\n",
        "Lead = Final_testPredicts[4]\n",
        "Nickel = Final_testPredicts[5]\n",
        "Silver = Final_testPredicts[6]\n",
        "Zinc = Final_testPredicts[7]\n",
        "MenthaOil = Final_testPredicts[8]\n",
        "Cotton = Final_testPredicts[9]\n",
        "Cpo = Final_testPredicts[10]\n",
        "Ng = Final_testPredicts[11]\n",
        "cluster1 = np.array([])\n",
        "cluster2 = np.array([])\n",
        "cluster3 = np.array([])\n",
        "cluster4 = np.array([])\n",
        "for i in range(681):\n",
        "  cl1 = (Cardamom[i] + MenthaOil[i])/2\n",
        "  cl2 = (Cotton[i] + Gold[i] + Silver[i])/3\n",
        "  cl3 = (Lead[i] + Al[i] + Zinc[i] + Ng[i])/4\n",
        "  cl4 = (Copper[i] + Cpo[i])/2\n",
        "  cluster1 = np.append(cluster1,cl1)\n",
        "  cluster2 = np.append(cluster2,cl2)\n",
        "  cluster3 = np.append(cluster3,cl3)\n",
        "  cluster4 = np.append(cluster4,cl4)\n"
      ],
      "execution_count": null,
      "outputs": []
    },
    {
      "cell_type": "code",
      "metadata": {
        "id": "NeoBqQFlO2vw",
        "colab": {
          "base_uri": "https://localhost:8080/",
          "height": 402
        },
        "outputId": "4f1a5170-5090-4018-a92b-a06c26721c18"
      },
      "source": [
        "cluster = np.array([])\n",
        "final_file={\"cluster1\":cluster1,\"cluster2\":cluster2,\"cluster3\":cluster3,\"cluster4\":cluster4,\"Nickel\":Nickel}\n",
        "f=pd.DataFrame(final_file)\n",
        "f_np = f.to_numpy()\n",
        "f_np.shape\n",
        "f"
      ],
      "execution_count": null,
      "outputs": [
        {
          "output_type": "execute_result",
          "data": {
            "text/html": [
              "<div>\n",
              "<style scoped>\n",
              "    .dataframe tbody tr th:only-of-type {\n",
              "        vertical-align: middle;\n",
              "    }\n",
              "\n",
              "    .dataframe tbody tr th {\n",
              "        vertical-align: top;\n",
              "    }\n",
              "\n",
              "    .dataframe thead th {\n",
              "        text-align: right;\n",
              "    }\n",
              "</style>\n",
              "<table border=\"1\" class=\"dataframe\">\n",
              "  <thead>\n",
              "    <tr style=\"text-align: right;\">\n",
              "      <th></th>\n",
              "      <th>cluster1</th>\n",
              "      <th>cluster2</th>\n",
              "      <th>cluster3</th>\n",
              "      <th>cluster4</th>\n",
              "      <th>Nickel</th>\n",
              "    </tr>\n",
              "  </thead>\n",
              "  <tbody>\n",
              "    <tr>\n",
              "      <th>0</th>\n",
              "      <td>996.368805</td>\n",
              "      <td>28100.260417</td>\n",
              "      <td>165.122314</td>\n",
              "      <td>433.868423</td>\n",
              "      <td>586.856262</td>\n",
              "    </tr>\n",
              "    <tr>\n",
              "      <th>1</th>\n",
              "      <td>1001.744080</td>\n",
              "      <td>28173.284505</td>\n",
              "      <td>164.834793</td>\n",
              "      <td>432.617905</td>\n",
              "      <td>588.127136</td>\n",
              "    </tr>\n",
              "    <tr>\n",
              "      <th>2</th>\n",
              "      <td>1017.660065</td>\n",
              "      <td>28237.637370</td>\n",
              "      <td>164.712460</td>\n",
              "      <td>433.406754</td>\n",
              "      <td>589.764587</td>\n",
              "    </tr>\n",
              "    <tr>\n",
              "      <th>3</th>\n",
              "      <td>1021.340271</td>\n",
              "      <td>28333.259766</td>\n",
              "      <td>164.274977</td>\n",
              "      <td>433.498642</td>\n",
              "      <td>590.589417</td>\n",
              "    </tr>\n",
              "    <tr>\n",
              "      <th>4</th>\n",
              "      <td>1036.144928</td>\n",
              "      <td>28404.764974</td>\n",
              "      <td>163.207197</td>\n",
              "      <td>434.094131</td>\n",
              "      <td>596.499023</td>\n",
              "    </tr>\n",
              "    <tr>\n",
              "      <th>...</th>\n",
              "      <td>...</td>\n",
              "      <td>...</td>\n",
              "      <td>...</td>\n",
              "      <td>...</td>\n",
              "      <td>...</td>\n",
              "    </tr>\n",
              "    <tr>\n",
              "      <th>676</th>\n",
              "      <td>1540.691223</td>\n",
              "      <td>33260.695638</td>\n",
              "      <td>140.722950</td>\n",
              "      <td>512.956467</td>\n",
              "      <td>876.108704</td>\n",
              "    </tr>\n",
              "    <tr>\n",
              "      <th>677</th>\n",
              "      <td>1561.975281</td>\n",
              "      <td>33151.137044</td>\n",
              "      <td>140.943356</td>\n",
              "      <td>513.788620</td>\n",
              "      <td>885.700928</td>\n",
              "    </tr>\n",
              "    <tr>\n",
              "      <th>678</th>\n",
              "      <td>1567.387878</td>\n",
              "      <td>33313.564128</td>\n",
              "      <td>141.718601</td>\n",
              "      <td>514.285172</td>\n",
              "      <td>891.680298</td>\n",
              "    </tr>\n",
              "    <tr>\n",
              "      <th>679</th>\n",
              "      <td>1572.183838</td>\n",
              "      <td>33179.058268</td>\n",
              "      <td>142.835762</td>\n",
              "      <td>510.431442</td>\n",
              "      <td>901.201233</td>\n",
              "    </tr>\n",
              "    <tr>\n",
              "      <th>680</th>\n",
              "      <td>1531.093445</td>\n",
              "      <td>33251.648763</td>\n",
              "      <td>143.123241</td>\n",
              "      <td>509.222061</td>\n",
              "      <td>905.255371</td>\n",
              "    </tr>\n",
              "  </tbody>\n",
              "</table>\n",
              "<p>681 rows × 5 columns</p>\n",
              "</div>"
            ],
            "text/plain": [
              "        cluster1      cluster2    cluster3    cluster4      Nickel\n",
              "0     996.368805  28100.260417  165.122314  433.868423  586.856262\n",
              "1    1001.744080  28173.284505  164.834793  432.617905  588.127136\n",
              "2    1017.660065  28237.637370  164.712460  433.406754  589.764587\n",
              "3    1021.340271  28333.259766  164.274977  433.498642  590.589417\n",
              "4    1036.144928  28404.764974  163.207197  434.094131  596.499023\n",
              "..           ...           ...         ...         ...         ...\n",
              "676  1540.691223  33260.695638  140.722950  512.956467  876.108704\n",
              "677  1561.975281  33151.137044  140.943356  513.788620  885.700928\n",
              "678  1567.387878  33313.564128  141.718601  514.285172  891.680298\n",
              "679  1572.183838  33179.058268  142.835762  510.431442  901.201233\n",
              "680  1531.093445  33251.648763  143.123241  509.222061  905.255371\n",
              "\n",
              "[681 rows x 5 columns]"
            ]
          },
          "metadata": {
            "tags": []
          },
          "execution_count": 56
        }
      ]
    },
    {
      "cell_type": "code",
      "metadata": {
        "id": "eSJyKeBH_iIl",
        "colab": {
          "base_uri": "https://localhost:8080/",
          "height": 34
        },
        "outputId": "6227d75d-c62f-461c-f90d-ff27485b8d76"
      },
      "source": [
        "Cardamom_V = Final_Volume_Predicts[0]\n",
        "Al_V = Final_Volume_Predicts[1]\n",
        "Copper_V = Final_Volume_Predicts[2]\n",
        "Gold_V = Final_Volume_Predicts[3]\n",
        "Lead_V = Final_Volume_Predicts[4]\n",
        "Nickel_V = Final_Volume_Predicts[5]\n",
        "Silver_V = Final_Volume_Predicts[6]\n",
        "Zinc_V = Final_Volume_Predicts[7]\n",
        "MenthaOil_V = Final_Volume_Predicts[8]\n",
        "Cotton_V = Final_Volume_Predicts[9]\n",
        "Cpo_V = Final_Volume_Predicts[10]\n",
        "Ng_V = Final_Volume_Predicts[11]\n",
        "#Price Original\n",
        "Cardamom_P = Final_Price_Predicts[0]\n",
        "Al_P = Final_Price_Predicts[1]\n",
        "Copper_P = Final_Price_Predicts[2]\n",
        "Gold_P = Final_Price_Predicts[3]\n",
        "Lead_P = Final_Price_Predicts[4]\n",
        "Nickel_P = Final_Price_Predicts[5]\n",
        "Silver_P = Final_Price_Predicts[6]\n",
        "Zinc_P = Final_Price_Predicts[7]\n",
        "MenthaOil_P = Final_Price_Predicts[8]\n",
        "Cotton_P = Final_Price_Predicts[9]\n",
        "Cpo_P = Final_Price_Predicts[10]\n",
        "Ng_P = Final_Price_Predicts[11]\n",
        "P_V= np.array([])\n",
        "for i in range(681):\n",
        "  pv = Cardamom_P[i]*Cardamom_V[i] + Al_P[i]*Al_V[i] + Copper_P[i]*Copper_V[i] + Gold_P[i]*Gold_V[i] + Lead_P[i]*Lead_V[i] + Nickel_P[i]*Nickel_V[i]+ Silver_P[i]*Silver_V[i] + Zinc_P[i]*Zinc_V[i] + MenthaOil_P[i]*MenthaOil_V[i] + Cotton_P[i]*Cotton_V[i] + Cpo_P[i]*Cpo_V[i] + Ng_P[i]*Ng_V[i]\n",
        "  P_V = np.append(P_V,pv)\n",
        "P_V.shape"
      ],
      "execution_count": null,
      "outputs": [
        {
          "output_type": "execute_result",
          "data": {
            "text/plain": [
              "(681,)"
            ]
          },
          "metadata": {
            "tags": []
          },
          "execution_count": 57
        }
      ]
    },
    {
      "cell_type": "code",
      "metadata": {
        "id": "3A9r6fHhJ0Jr",
        "colab": {
          "base_uri": "https://localhost:8080/",
          "height": 402
        },
        "outputId": "ff2f490a-a495-4488-bb80-addf107470cb"
      },
      "source": [
        "from math import log\n",
        "P_Vnew =pd.DataFrame(P_V)\n",
        "P_Vnew.set_index(Final_Dates)\n",
        "\n",
        "P_Vnew[\"Fraction\"] = np.log(P_Vnew[0])- np.log(P_Vnew[0].shift(1))\n",
        "P_Vnew"
      ],
      "execution_count": null,
      "outputs": [
        {
          "output_type": "execute_result",
          "data": {
            "text/html": [
              "<div>\n",
              "<style scoped>\n",
              "    .dataframe tbody tr th:only-of-type {\n",
              "        vertical-align: middle;\n",
              "    }\n",
              "\n",
              "    .dataframe tbody tr th {\n",
              "        vertical-align: top;\n",
              "    }\n",
              "\n",
              "    .dataframe thead th {\n",
              "        text-align: right;\n",
              "    }\n",
              "</style>\n",
              "<table border=\"1\" class=\"dataframe\">\n",
              "  <thead>\n",
              "    <tr style=\"text-align: right;\">\n",
              "      <th></th>\n",
              "      <th>0</th>\n",
              "      <th>Fraction</th>\n",
              "    </tr>\n",
              "  </thead>\n",
              "  <tbody>\n",
              "    <tr>\n",
              "      <th>0</th>\n",
              "      <td>1.763722e+09</td>\n",
              "      <td>NaN</td>\n",
              "    </tr>\n",
              "    <tr>\n",
              "      <th>1</th>\n",
              "      <td>2.316266e+09</td>\n",
              "      <td>0.272530</td>\n",
              "    </tr>\n",
              "    <tr>\n",
              "      <th>2</th>\n",
              "      <td>1.786285e+09</td>\n",
              "      <td>-0.259818</td>\n",
              "    </tr>\n",
              "    <tr>\n",
              "      <th>3</th>\n",
              "      <td>1.560289e+09</td>\n",
              "      <td>-0.135267</td>\n",
              "    </tr>\n",
              "    <tr>\n",
              "      <th>4</th>\n",
              "      <td>2.658921e+09</td>\n",
              "      <td>0.533049</td>\n",
              "    </tr>\n",
              "    <tr>\n",
              "      <th>...</th>\n",
              "      <td>...</td>\n",
              "      <td>...</td>\n",
              "    </tr>\n",
              "    <tr>\n",
              "      <th>676</th>\n",
              "      <td>4.287165e+09</td>\n",
              "      <td>0.307559</td>\n",
              "    </tr>\n",
              "    <tr>\n",
              "      <th>677</th>\n",
              "      <td>2.943998e+09</td>\n",
              "      <td>-0.375857</td>\n",
              "    </tr>\n",
              "    <tr>\n",
              "      <th>678</th>\n",
              "      <td>4.139447e+09</td>\n",
              "      <td>0.340794</td>\n",
              "    </tr>\n",
              "    <tr>\n",
              "      <th>679</th>\n",
              "      <td>4.519438e+09</td>\n",
              "      <td>0.087825</td>\n",
              "    </tr>\n",
              "    <tr>\n",
              "      <th>680</th>\n",
              "      <td>5.195399e+09</td>\n",
              "      <td>0.139386</td>\n",
              "    </tr>\n",
              "  </tbody>\n",
              "</table>\n",
              "<p>681 rows × 2 columns</p>\n",
              "</div>"
            ],
            "text/plain": [
              "                0  Fraction\n",
              "0    1.763722e+09       NaN\n",
              "1    2.316266e+09  0.272530\n",
              "2    1.786285e+09 -0.259818\n",
              "3    1.560289e+09 -0.135267\n",
              "4    2.658921e+09  0.533049\n",
              "..            ...       ...\n",
              "676  4.287165e+09  0.307559\n",
              "677  2.943998e+09 -0.375857\n",
              "678  4.139447e+09  0.340794\n",
              "679  4.519438e+09  0.087825\n",
              "680  5.195399e+09  0.139386\n",
              "\n",
              "[681 rows x 2 columns]"
            ]
          },
          "metadata": {
            "tags": []
          },
          "execution_count": 58
        }
      ]
    },
    {
      "cell_type": "code",
      "metadata": {
        "id": "a2eEEImEPmbI"
      },
      "source": [
        "P_Vnew[\"Fraction\"][0] = 0"
      ],
      "execution_count": null,
      "outputs": []
    },
    {
      "cell_type": "code",
      "metadata": {
        "id": "CIHgngWhLXaS"
      },
      "source": [
        "PV = P_Vnew[\"Fraction\"].to_numpy()"
      ],
      "execution_count": null,
      "outputs": []
    },
    {
      "cell_type": "code",
      "metadata": {
        "id": "-3D9oFEw4aAA",
        "colab": {
          "base_uri": "https://localhost:8080/",
          "height": 402
        },
        "outputId": "6dfef7fe-2407-4e09-c0eb-34dc8d36209f"
      },
      "source": [
        "P_Vnew"
      ],
      "execution_count": null,
      "outputs": [
        {
          "output_type": "execute_result",
          "data": {
            "text/html": [
              "<div>\n",
              "<style scoped>\n",
              "    .dataframe tbody tr th:only-of-type {\n",
              "        vertical-align: middle;\n",
              "    }\n",
              "\n",
              "    .dataframe tbody tr th {\n",
              "        vertical-align: top;\n",
              "    }\n",
              "\n",
              "    .dataframe thead th {\n",
              "        text-align: right;\n",
              "    }\n",
              "</style>\n",
              "<table border=\"1\" class=\"dataframe\">\n",
              "  <thead>\n",
              "    <tr style=\"text-align: right;\">\n",
              "      <th></th>\n",
              "      <th>0</th>\n",
              "      <th>Fraction</th>\n",
              "    </tr>\n",
              "  </thead>\n",
              "  <tbody>\n",
              "    <tr>\n",
              "      <th>0</th>\n",
              "      <td>1.763722e+09</td>\n",
              "      <td>0.000000</td>\n",
              "    </tr>\n",
              "    <tr>\n",
              "      <th>1</th>\n",
              "      <td>2.316266e+09</td>\n",
              "      <td>0.272530</td>\n",
              "    </tr>\n",
              "    <tr>\n",
              "      <th>2</th>\n",
              "      <td>1.786285e+09</td>\n",
              "      <td>-0.259818</td>\n",
              "    </tr>\n",
              "    <tr>\n",
              "      <th>3</th>\n",
              "      <td>1.560289e+09</td>\n",
              "      <td>-0.135267</td>\n",
              "    </tr>\n",
              "    <tr>\n",
              "      <th>4</th>\n",
              "      <td>2.658921e+09</td>\n",
              "      <td>0.533049</td>\n",
              "    </tr>\n",
              "    <tr>\n",
              "      <th>...</th>\n",
              "      <td>...</td>\n",
              "      <td>...</td>\n",
              "    </tr>\n",
              "    <tr>\n",
              "      <th>676</th>\n",
              "      <td>4.287165e+09</td>\n",
              "      <td>0.307559</td>\n",
              "    </tr>\n",
              "    <tr>\n",
              "      <th>677</th>\n",
              "      <td>2.943998e+09</td>\n",
              "      <td>-0.375857</td>\n",
              "    </tr>\n",
              "    <tr>\n",
              "      <th>678</th>\n",
              "      <td>4.139447e+09</td>\n",
              "      <td>0.340794</td>\n",
              "    </tr>\n",
              "    <tr>\n",
              "      <th>679</th>\n",
              "      <td>4.519438e+09</td>\n",
              "      <td>0.087825</td>\n",
              "    </tr>\n",
              "    <tr>\n",
              "      <th>680</th>\n",
              "      <td>5.195399e+09</td>\n",
              "      <td>0.139386</td>\n",
              "    </tr>\n",
              "  </tbody>\n",
              "</table>\n",
              "<p>681 rows × 2 columns</p>\n",
              "</div>"
            ],
            "text/plain": [
              "                0  Fraction\n",
              "0    1.763722e+09  0.000000\n",
              "1    2.316266e+09  0.272530\n",
              "2    1.786285e+09 -0.259818\n",
              "3    1.560289e+09 -0.135267\n",
              "4    2.658921e+09  0.533049\n",
              "..            ...       ...\n",
              "676  4.287165e+09  0.307559\n",
              "677  2.943998e+09 -0.375857\n",
              "678  4.139447e+09  0.340794\n",
              "679  4.519438e+09  0.087825\n",
              "680  5.195399e+09  0.139386\n",
              "\n",
              "[681 rows x 2 columns]"
            ]
          },
          "metadata": {
            "tags": []
          },
          "execution_count": 61
        }
      ]
    },
    {
      "cell_type": "code",
      "metadata": {
        "id": "zFZwwXVjuor5"
      },
      "source": [
        "trainX, testX = f_np[:457, :], f_np[457:, :]\n",
        "trainy, testy = PV[:457], PV[457:]"
      ],
      "execution_count": null,
      "outputs": []
    },
    {
      "cell_type": "code",
      "metadata": {
        "id": "Ejp37vNSB_BX",
        "colab": {
          "base_uri": "https://localhost:8080/",
          "height": 34
        },
        "outputId": "47d8f6be-0885-4ac3-fae2-ac366ed82d18"
      },
      "source": [
        "scaler_y = MinMaxScaler(feature_range=(0, 0.95))\n",
        "scaler_x = MinMaxScaler(feature_range=(0, 0.95))\n",
        "# trainy = scaler_y.fit_transform(np.reshape(trainy,(-1,1)))\n",
        "# trainy.shape\n",
        "# testy = scaler_y.transform(np.reshape(testy,(-1,1)))\n",
        "# testy.shape\n",
        "\n",
        "trainX = scaler_x.fit_transform(trainX)\n",
        "trainX.shape\n",
        "testX = scaler_x.transform(testX)\n",
        "testX.shape"
      ],
      "execution_count": null,
      "outputs": [
        {
          "output_type": "execute_result",
          "data": {
            "text/plain": [
              "(224, 5)"
            ]
          },
          "metadata": {
            "tags": []
          },
          "execution_count": 63
        }
      ]
    },
    {
      "cell_type": "code",
      "metadata": {
        "id": "LKovisyL8QMM",
        "colab": {
          "base_uri": "https://localhost:8080/",
          "height": 34
        },
        "outputId": "feb87094-bb8d-4c23-f87f-29104149b792"
      },
      "source": [
        "testX.shape"
      ],
      "execution_count": null,
      "outputs": [
        {
          "output_type": "execute_result",
          "data": {
            "text/plain": [
              "(224, 5)"
            ]
          },
          "metadata": {
            "tags": []
          },
          "execution_count": 64
        }
      ]
    },
    {
      "cell_type": "code",
      "metadata": {
        "id": "8hyQVSJfUhoG",
        "colab": {
          "base_uri": "https://localhost:8080/",
          "height": 34
        },
        "outputId": "134be14c-6cb0-47e3-df98-f4ae71f483d7"
      },
      "source": [
        "testy = np.reshape(testy, (testy.shape[0]))\n",
        "testy.shape\n",
        "trainy = np.reshape(trainy, (trainy.shape[0]))\n",
        "trainy.shape"
      ],
      "execution_count": null,
      "outputs": [
        {
          "output_type": "execute_result",
          "data": {
            "text/plain": [
              "(457,)"
            ]
          },
          "metadata": {
            "tags": []
          },
          "execution_count": 65
        }
      ]
    },
    {
      "cell_type": "code",
      "metadata": {
        "id": "EA5pAbv1CHeL"
      },
      "source": [
        "from keras.layers import Dropout\n",
        "model2 = Sequential()\n",
        "model2.add(Dense(16, input_shape = (5,), activation='tanh'))\n",
        "model2.add(Dropout(0.4))\n",
        "model2.add(Dense(8, activation='tanh'))\n",
        "model2.add(Dropout(0.2))\n",
        "model2.add(Dense(4, activation='tanh'))\n",
        "model2.add(Dense(1, activation='tanh')) #log value could be -ve\n",
        "# tensor board, shap library - to get weights from our NN\n",
        "\n",
        "# actual price, weights -> index\n",
        "\n",
        "# graphical representation -> tensor board + colab"
      ],
      "execution_count": null,
      "outputs": []
    },
    {
      "cell_type": "code",
      "metadata": {
        "id": "xfJCSEr4DKm0",
        "colab": {
          "base_uri": "https://localhost:8080/",
          "height": 1000
        },
        "outputId": "5f79875f-4cf4-4115-b9b6-11ec9b2d9197"
      },
      "source": [
        "from keras.callbacks import EarlyStopping\n",
        "es = EarlyStopping(monitor='val_loss', mode='min', verbose=1, patience=15)\n",
        "model2.compile(loss='mean_squared_error', optimizer='adam', metrics=['mse'])\n",
        "model2.fit(trainX, trainy, validation_data=(testX, testy), epochs=100, batch_size=1, callbacks=[es])"
      ],
      "execution_count": null,
      "outputs": [
        {
          "output_type": "stream",
          "text": [
            "Train on 457 samples, validate on 224 samples\n",
            "Epoch 1/200\n",
            "457/457 [==============================] - 1s 2ms/step - loss: 0.1448 - mse: 0.1448 - val_loss: 0.2410 - val_mse: 0.2410\n",
            "Epoch 2/200\n",
            "457/457 [==============================] - 1s 1ms/step - loss: 0.1180 - mse: 0.1180 - val_loss: 0.2341 - val_mse: 0.2341\n",
            "Epoch 3/200\n",
            "457/457 [==============================] - 1s 1ms/step - loss: 0.1148 - mse: 0.1148 - val_loss: 0.2354 - val_mse: 0.2354\n",
            "Epoch 4/200\n",
            "457/457 [==============================] - 1s 2ms/step - loss: 0.1162 - mse: 0.1162 - val_loss: 0.2326 - val_mse: 0.2326\n",
            "Epoch 5/200\n",
            "457/457 [==============================] - 1s 1ms/step - loss: 0.1126 - mse: 0.1126 - val_loss: 0.2324 - val_mse: 0.2324\n",
            "Epoch 6/200\n",
            "457/457 [==============================] - 1s 1ms/step - loss: 0.1133 - mse: 0.1133 - val_loss: 0.2316 - val_mse: 0.2316\n",
            "Epoch 7/200\n",
            "457/457 [==============================] - 1s 1ms/step - loss: 0.1137 - mse: 0.1137 - val_loss: 0.2315 - val_mse: 0.2315\n",
            "Epoch 8/200\n",
            "457/457 [==============================] - 1s 2ms/step - loss: 0.1119 - mse: 0.1119 - val_loss: 0.2314 - val_mse: 0.2314\n",
            "Epoch 9/200\n",
            "457/457 [==============================] - 1s 2ms/step - loss: 0.1122 - mse: 0.1122 - val_loss: 0.2312 - val_mse: 0.2312\n",
            "Epoch 10/200\n",
            "457/457 [==============================] - 1s 2ms/step - loss: 0.1119 - mse: 0.1119 - val_loss: 0.2313 - val_mse: 0.2313\n",
            "Epoch 11/200\n",
            "457/457 [==============================] - 1s 2ms/step - loss: 0.1112 - mse: 0.1112 - val_loss: 0.2317 - val_mse: 0.2317\n",
            "Epoch 12/200\n",
            "457/457 [==============================] - 1s 2ms/step - loss: 0.1118 - mse: 0.1118 - val_loss: 0.2314 - val_mse: 0.2314\n",
            "Epoch 13/200\n",
            "457/457 [==============================] - 1s 2ms/step - loss: 0.1119 - mse: 0.1119 - val_loss: 0.2316 - val_mse: 0.2316\n",
            "Epoch 14/200\n",
            "457/457 [==============================] - 1s 2ms/step - loss: 0.1117 - mse: 0.1117 - val_loss: 0.2312 - val_mse: 0.2312\n",
            "Epoch 15/200\n",
            "457/457 [==============================] - 1s 2ms/step - loss: 0.1109 - mse: 0.1109 - val_loss: 0.2314 - val_mse: 0.2314\n",
            "Epoch 16/200\n",
            "457/457 [==============================] - 1s 2ms/step - loss: 0.1115 - mse: 0.1115 - val_loss: 0.2324 - val_mse: 0.2324\n",
            "Epoch 17/200\n",
            "457/457 [==============================] - 1s 2ms/step - loss: 0.1107 - mse: 0.1107 - val_loss: 0.2322 - val_mse: 0.2322\n",
            "Epoch 18/200\n",
            "457/457 [==============================] - 1s 2ms/step - loss: 0.1116 - mse: 0.1116 - val_loss: 0.2312 - val_mse: 0.2312\n",
            "Epoch 19/200\n",
            "457/457 [==============================] - 1s 2ms/step - loss: 0.1118 - mse: 0.1118 - val_loss: 0.2314 - val_mse: 0.2314\n",
            "Epoch 20/200\n",
            "457/457 [==============================] - 1s 2ms/step - loss: 0.1121 - mse: 0.1121 - val_loss: 0.2315 - val_mse: 0.2315\n",
            "Epoch 21/200\n",
            "457/457 [==============================] - 1s 2ms/step - loss: 0.1115 - mse: 0.1115 - val_loss: 0.2314 - val_mse: 0.2314\n",
            "Epoch 22/200\n",
            "457/457 [==============================] - 1s 2ms/step - loss: 0.1112 - mse: 0.1112 - val_loss: 0.2313 - val_mse: 0.2313\n",
            "Epoch 23/200\n",
            "457/457 [==============================] - 1s 1ms/step - loss: 0.1111 - mse: 0.1111 - val_loss: 0.2317 - val_mse: 0.2317\n",
            "Epoch 24/200\n",
            "457/457 [==============================] - 1s 2ms/step - loss: 0.1104 - mse: 0.1104 - val_loss: 0.2319 - val_mse: 0.2319\n",
            "Epoch 25/200\n",
            "457/457 [==============================] - 1s 2ms/step - loss: 0.1115 - mse: 0.1115 - val_loss: 0.2312 - val_mse: 0.2312\n",
            "Epoch 26/200\n",
            "457/457 [==============================] - 1s 1ms/step - loss: 0.1107 - mse: 0.1107 - val_loss: 0.2327 - val_mse: 0.2327\n",
            "Epoch 27/200\n",
            "457/457 [==============================] - 1s 1ms/step - loss: 0.1112 - mse: 0.1112 - val_loss: 0.2323 - val_mse: 0.2323\n",
            "Epoch 28/200\n",
            "457/457 [==============================] - 1s 1ms/step - loss: 0.1118 - mse: 0.1118 - val_loss: 0.2312 - val_mse: 0.2312\n",
            "Epoch 29/200\n",
            "457/457 [==============================] - 1s 2ms/step - loss: 0.1117 - mse: 0.1117 - val_loss: 0.2312 - val_mse: 0.2312\n",
            "Epoch 30/200\n",
            "457/457 [==============================] - 1s 1ms/step - loss: 0.1115 - mse: 0.1115 - val_loss: 0.2315 - val_mse: 0.2315\n",
            "Epoch 31/200\n",
            "457/457 [==============================] - 1s 1ms/step - loss: 0.1114 - mse: 0.1114 - val_loss: 0.2313 - val_mse: 0.2313\n",
            "Epoch 32/200\n",
            "457/457 [==============================] - 1s 1ms/step - loss: 0.1113 - mse: 0.1113 - val_loss: 0.2312 - val_mse: 0.2312\n",
            "Epoch 33/200\n",
            "457/457 [==============================] - 1s 1ms/step - loss: 0.1114 - mse: 0.1114 - val_loss: 0.2313 - val_mse: 0.2313\n",
            "Epoch 00033: early stopping\n"
          ],
          "name": "stdout"
        },
        {
          "output_type": "execute_result",
          "data": {
            "text/plain": [
              "<keras.callbacks.callbacks.History at 0x7f3f705142b0>"
            ]
          },
          "metadata": {
            "tags": []
          },
          "execution_count": 68
        }
      ]
    },
    {
      "cell_type": "code",
      "metadata": {
        "id": "Og0abBSgpLCm",
        "colab": {
          "base_uri": "https://localhost:8080/",
          "height": 34
        },
        "outputId": "62923642-3e29-4719-dee0-81695b26945b"
      },
      "source": [
        "a = model2.get_weights()\n",
        "avg = np.array([])\n",
        "for i in range(5):\n",
        "  sum = 0\n",
        "  for j in range(16):\n",
        "    sum = sum + a[0][i][j]\n",
        "  avg = np.append(avg, sum/16)\n",
        "print(\"The final weights are\", avg)\n",
        "total_weights = 0.1324"
      ],
      "execution_count": null,
      "outputs": [
        {
          "output_type": "stream",
          "text": [
            "The final weights are [-0.07603117  0.0894162  -0.0474036  -0.008439   -0.03015633]\n"
          ],
          "name": "stdout"
        }
      ]
    },
    {
      "cell_type": "code",
      "metadata": {
        "id": "LLMnv9XQPLPM"
      },
      "source": [
        "trainPredict = model2.predict(trainX)\n",
        "testPredict = model2.predict(testX)\n",
        "plt.scatter(trainPredict, trainy)\n",
        "plt.show()"
      ],
      "execution_count": null,
      "outputs": []
    },
    {
      "cell_type": "code",
      "metadata": {
        "id": "PT4EMHfQ4POG",
        "colab": {
          "base_uri": "https://localhost:8080/",
          "height": 402
        },
        "outputId": "9ae4006c-991a-40f6-fbac-5b5de97109e8"
      },
      "source": [
        "f"
      ],
      "execution_count": null,
      "outputs": [
        {
          "output_type": "execute_result",
          "data": {
            "text/html": [
              "<div>\n",
              "<style scoped>\n",
              "    .dataframe tbody tr th:only-of-type {\n",
              "        vertical-align: middle;\n",
              "    }\n",
              "\n",
              "    .dataframe tbody tr th {\n",
              "        vertical-align: top;\n",
              "    }\n",
              "\n",
              "    .dataframe thead th {\n",
              "        text-align: right;\n",
              "    }\n",
              "</style>\n",
              "<table border=\"1\" class=\"dataframe\">\n",
              "  <thead>\n",
              "    <tr style=\"text-align: right;\">\n",
              "      <th></th>\n",
              "      <th>cluster1</th>\n",
              "      <th>cluster2</th>\n",
              "      <th>cluster3</th>\n",
              "      <th>cluster4</th>\n",
              "      <th>Nickel</th>\n",
              "    </tr>\n",
              "  </thead>\n",
              "  <tbody>\n",
              "    <tr>\n",
              "      <th>0</th>\n",
              "      <td>996.368805</td>\n",
              "      <td>28100.260417</td>\n",
              "      <td>165.122314</td>\n",
              "      <td>433.868423</td>\n",
              "      <td>586.856262</td>\n",
              "    </tr>\n",
              "    <tr>\n",
              "      <th>1</th>\n",
              "      <td>1001.744080</td>\n",
              "      <td>28173.284505</td>\n",
              "      <td>164.834793</td>\n",
              "      <td>432.617905</td>\n",
              "      <td>588.127136</td>\n",
              "    </tr>\n",
              "    <tr>\n",
              "      <th>2</th>\n",
              "      <td>1017.660065</td>\n",
              "      <td>28237.637370</td>\n",
              "      <td>164.712460</td>\n",
              "      <td>433.406754</td>\n",
              "      <td>589.764587</td>\n",
              "    </tr>\n",
              "    <tr>\n",
              "      <th>3</th>\n",
              "      <td>1021.340271</td>\n",
              "      <td>28333.259766</td>\n",
              "      <td>164.274977</td>\n",
              "      <td>433.498642</td>\n",
              "      <td>590.589417</td>\n",
              "    </tr>\n",
              "    <tr>\n",
              "      <th>4</th>\n",
              "      <td>1036.144928</td>\n",
              "      <td>28404.764974</td>\n",
              "      <td>163.207197</td>\n",
              "      <td>434.094131</td>\n",
              "      <td>596.499023</td>\n",
              "    </tr>\n",
              "    <tr>\n",
              "      <th>...</th>\n",
              "      <td>...</td>\n",
              "      <td>...</td>\n",
              "      <td>...</td>\n",
              "      <td>...</td>\n",
              "      <td>...</td>\n",
              "    </tr>\n",
              "    <tr>\n",
              "      <th>676</th>\n",
              "      <td>1540.691223</td>\n",
              "      <td>33260.695638</td>\n",
              "      <td>140.722950</td>\n",
              "      <td>512.956467</td>\n",
              "      <td>876.108704</td>\n",
              "    </tr>\n",
              "    <tr>\n",
              "      <th>677</th>\n",
              "      <td>1561.975281</td>\n",
              "      <td>33151.137044</td>\n",
              "      <td>140.943356</td>\n",
              "      <td>513.788620</td>\n",
              "      <td>885.700928</td>\n",
              "    </tr>\n",
              "    <tr>\n",
              "      <th>678</th>\n",
              "      <td>1567.387878</td>\n",
              "      <td>33313.564128</td>\n",
              "      <td>141.718601</td>\n",
              "      <td>514.285172</td>\n",
              "      <td>891.680298</td>\n",
              "    </tr>\n",
              "    <tr>\n",
              "      <th>679</th>\n",
              "      <td>1572.183838</td>\n",
              "      <td>33179.058268</td>\n",
              "      <td>142.835762</td>\n",
              "      <td>510.431442</td>\n",
              "      <td>901.201233</td>\n",
              "    </tr>\n",
              "    <tr>\n",
              "      <th>680</th>\n",
              "      <td>1531.093445</td>\n",
              "      <td>33251.648763</td>\n",
              "      <td>143.123241</td>\n",
              "      <td>509.222061</td>\n",
              "      <td>905.255371</td>\n",
              "    </tr>\n",
              "  </tbody>\n",
              "</table>\n",
              "<p>681 rows × 5 columns</p>\n",
              "</div>"
            ],
            "text/plain": [
              "        cluster1      cluster2    cluster3    cluster4      Nickel\n",
              "0     996.368805  28100.260417  165.122314  433.868423  586.856262\n",
              "1    1001.744080  28173.284505  164.834793  432.617905  588.127136\n",
              "2    1017.660065  28237.637370  164.712460  433.406754  589.764587\n",
              "3    1021.340271  28333.259766  164.274977  433.498642  590.589417\n",
              "4    1036.144928  28404.764974  163.207197  434.094131  596.499023\n",
              "..           ...           ...         ...         ...         ...\n",
              "676  1540.691223  33260.695638  140.722950  512.956467  876.108704\n",
              "677  1561.975281  33151.137044  140.943356  513.788620  885.700928\n",
              "678  1567.387878  33313.564128  141.718601  514.285172  891.680298\n",
              "679  1572.183838  33179.058268  142.835762  510.431442  901.201233\n",
              "680  1531.093445  33251.648763  143.123241  509.222061  905.255371\n",
              "\n",
              "[681 rows x 5 columns]"
            ]
          },
          "metadata": {
            "tags": []
          },
          "execution_count": 71
        }
      ]
    },
    {
      "cell_type": "code",
      "metadata": {
        "id": "nSAAr7R_8J8s",
        "colab": {
          "base_uri": "https://localhost:8080/",
          "height": 402
        },
        "outputId": "5cdb68bf-5fc9-47fb-ad51-263c1fef766a"
      },
      "source": [
        "f[\"Index\"] = f['cluster1']*avg[0] + f['cluster2']*avg[1] + f['cluster3']*avg[2] + f['cluster4']*avg[3] + f['Nickel']*avg[4]\n",
        "f['Index'] = f['Index']/2\n",
        "f"
      ],
      "execution_count": null,
      "outputs": [
        {
          "output_type": "execute_result",
          "data": {
            "text/html": [
              "<div>\n",
              "<style scoped>\n",
              "    .dataframe tbody tr th:only-of-type {\n",
              "        vertical-align: middle;\n",
              "    }\n",
              "\n",
              "    .dataframe tbody tr th {\n",
              "        vertical-align: top;\n",
              "    }\n",
              "\n",
              "    .dataframe thead th {\n",
              "        text-align: right;\n",
              "    }\n",
              "</style>\n",
              "<table border=\"1\" class=\"dataframe\">\n",
              "  <thead>\n",
              "    <tr style=\"text-align: right;\">\n",
              "      <th></th>\n",
              "      <th>cluster1</th>\n",
              "      <th>cluster2</th>\n",
              "      <th>cluster3</th>\n",
              "      <th>cluster4</th>\n",
              "      <th>Nickel</th>\n",
              "      <th>Index</th>\n",
              "    </tr>\n",
              "  </thead>\n",
              "  <tbody>\n",
              "    <tr>\n",
              "      <th>0</th>\n",
              "      <td>996.368805</td>\n",
              "      <td>28100.260417</td>\n",
              "      <td>165.122314</td>\n",
              "      <td>433.868423</td>\n",
              "      <td>586.856262</td>\n",
              "      <td>1203.838587</td>\n",
              "    </tr>\n",
              "    <tr>\n",
              "      <th>1</th>\n",
              "      <td>1001.744080</td>\n",
              "      <td>28173.284505</td>\n",
              "      <td>164.834793</td>\n",
              "      <td>432.617905</td>\n",
              "      <td>588.127136</td>\n",
              "      <td>1206.891940</td>\n",
              "    </tr>\n",
              "    <tr>\n",
              "      <th>2</th>\n",
              "      <td>1017.660065</td>\n",
              "      <td>28237.637370</td>\n",
              "      <td>164.712460</td>\n",
              "      <td>433.406754</td>\n",
              "      <td>589.764587</td>\n",
              "      <td>1209.138860</td>\n",
              "    </tr>\n",
              "    <tr>\n",
              "      <th>3</th>\n",
              "      <td>1021.340271</td>\n",
              "      <td>28333.259766</td>\n",
              "      <td>164.274977</td>\n",
              "      <td>433.498642</td>\n",
              "      <td>590.589417</td>\n",
              "      <td>1213.271595</td>\n",
              "    </tr>\n",
              "    <tr>\n",
              "      <th>4</th>\n",
              "      <td>1036.144928</td>\n",
              "      <td>28404.764974</td>\n",
              "      <td>163.207197</td>\n",
              "      <td>434.094131</td>\n",
              "      <td>596.499023</td>\n",
              "      <td>1215.839339</td>\n",
              "    </tr>\n",
              "    <tr>\n",
              "      <th>...</th>\n",
              "      <td>...</td>\n",
              "      <td>...</td>\n",
              "      <td>...</td>\n",
              "      <td>...</td>\n",
              "      <td>...</td>\n",
              "      <td>...</td>\n",
              "    </tr>\n",
              "    <tr>\n",
              "      <th>676</th>\n",
              "      <td>1540.691223</td>\n",
              "      <td>33260.695638</td>\n",
              "      <td>140.722950</td>\n",
              "      <td>512.956467</td>\n",
              "      <td>876.108704</td>\n",
              "      <td>1409.742306</td>\n",
              "    </tr>\n",
              "    <tr>\n",
              "      <th>677</th>\n",
              "      <td>1561.975281</td>\n",
              "      <td>33151.137044</td>\n",
              "      <td>140.943356</td>\n",
              "      <td>513.788620</td>\n",
              "      <td>885.700928</td>\n",
              "      <td>1403.881655</td>\n",
              "    </tr>\n",
              "    <tr>\n",
              "      <th>678</th>\n",
              "      <td>1567.387878</td>\n",
              "      <td>33313.564128</td>\n",
              "      <td>141.718601</td>\n",
              "      <td>514.285172</td>\n",
              "      <td>891.680298</td>\n",
              "      <td>1410.827071</td>\n",
              "    </tr>\n",
              "    <tr>\n",
              "      <th>679</th>\n",
              "      <td>1572.183838</td>\n",
              "      <td>33179.058268</td>\n",
              "      <td>142.835762</td>\n",
              "      <td>510.431442</td>\n",
              "      <td>901.201233</td>\n",
              "      <td>1404.477472</td>\n",
              "    </tr>\n",
              "    <tr>\n",
              "      <th>680</th>\n",
              "      <td>1531.093445</td>\n",
              "      <td>33251.648763</td>\n",
              "      <td>143.123241</td>\n",
              "      <td>509.222061</td>\n",
              "      <td>905.255371</td>\n",
              "      <td>1409.222091</td>\n",
              "    </tr>\n",
              "  </tbody>\n",
              "</table>\n",
              "<p>681 rows × 6 columns</p>\n",
              "</div>"
            ],
            "text/plain": [
              "        cluster1      cluster2    cluster3    cluster4      Nickel        Index\n",
              "0     996.368805  28100.260417  165.122314  433.868423  586.856262  1203.838587\n",
              "1    1001.744080  28173.284505  164.834793  432.617905  588.127136  1206.891940\n",
              "2    1017.660065  28237.637370  164.712460  433.406754  589.764587  1209.138860\n",
              "3    1021.340271  28333.259766  164.274977  433.498642  590.589417  1213.271595\n",
              "4    1036.144928  28404.764974  163.207197  434.094131  596.499023  1215.839339\n",
              "..           ...           ...         ...         ...         ...          ...\n",
              "676  1540.691223  33260.695638  140.722950  512.956467  876.108704  1409.742306\n",
              "677  1561.975281  33151.137044  140.943356  513.788620  885.700928  1403.881655\n",
              "678  1567.387878  33313.564128  141.718601  514.285172  891.680298  1410.827071\n",
              "679  1572.183838  33179.058268  142.835762  510.431442  901.201233  1404.477472\n",
              "680  1531.093445  33251.648763  143.123241  509.222061  905.255371  1409.222091\n",
              "\n",
              "[681 rows x 6 columns]"
            ]
          },
          "metadata": {
            "tags": []
          },
          "execution_count": 77
        }
      ]
    },
    {
      "cell_type": "code",
      "metadata": {
        "id": "owqVpWxu-Fuu"
      },
      "source": [
        "agricluture = np.array([])\n",
        "precious = np.array([])\n",
        "metal = np.array([])\n",
        "energy = np.array([])\n",
        "for i in range(681):\n",
        "  agri = (Cardamom[i] + Cotton[i])/2\n",
        "  pr_metal = (Gold[i] + Silver[i])/2\n",
        "  mt = (Lead[i] + Al[i] + Zinc[i] + Copper[i] + Nickel[i])/5\n",
        "  eng = (MenthaOil[i] + Ng[i] + Cpo[i])/3\n",
        "  agricluture = np.append(agricluture,agri)\n",
        "  precious = np.append(precious,pr_metal)\n",
        "  metal = np.append(metal,mt)\n",
        "  energy = np.append(energy,eng)"
      ],
      "execution_count": null,
      "outputs": []
    },
    {
      "cell_type": "code",
      "metadata": {
        "id": "e62Iun8XAHsI",
        "colab": {
          "base_uri": "https://localhost:8080/",
          "height": 402
        },
        "outputId": "b615f811-4a05-4bc6-e9f4-1b3602e9c4f8"
      },
      "source": [
        "comdex={\"agri\":agricluture,\"precious\":precious,\"metal\":metal,\"energy\":energy}\n",
        "G=pd.DataFrame(comdex)\n",
        "G"
      ],
      "execution_count": null,
      "outputs": [
        {
          "output_type": "execute_result",
          "data": {
            "text/html": [
              "<div>\n",
              "<style scoped>\n",
              "    .dataframe tbody tr th:only-of-type {\n",
              "        vertical-align: middle;\n",
              "    }\n",
              "\n",
              "    .dataframe tbody tr th {\n",
              "        vertical-align: top;\n",
              "    }\n",
              "\n",
              "    .dataframe thead th {\n",
              "        text-align: right;\n",
              "    }\n",
              "</style>\n",
              "<table border=\"1\" class=\"dataframe\">\n",
              "  <thead>\n",
              "    <tr style=\"text-align: right;\">\n",
              "      <th></th>\n",
              "      <th>agri</th>\n",
              "      <th>precious</th>\n",
              "      <th>metal</th>\n",
              "      <th>energy</th>\n",
              "    </tr>\n",
              "  </thead>\n",
              "  <tbody>\n",
              "    <tr>\n",
              "      <th>0</th>\n",
              "      <td>10482.107788</td>\n",
              "      <td>32224.940430</td>\n",
              "      <td>287.222968</td>\n",
              "      <td>519.463318</td>\n",
              "    </tr>\n",
              "    <tr>\n",
              "      <th>1</th>\n",
              "      <td>10481.221191</td>\n",
              "      <td>32336.324219</td>\n",
              "      <td>287.015866</td>\n",
              "      <td>521.957881</td>\n",
              "    </tr>\n",
              "    <tr>\n",
              "      <th>2</th>\n",
              "      <td>10509.499329</td>\n",
              "      <td>32414.884766</td>\n",
              "      <td>287.147202</td>\n",
              "      <td>526.385325</td>\n",
              "    </tr>\n",
              "    <tr>\n",
              "      <th>3</th>\n",
              "      <td>10508.949707</td>\n",
              "      <td>32560.418945</td>\n",
              "      <td>287.171559</td>\n",
              "      <td>527.517115</td>\n",
              "    </tr>\n",
              "    <tr>\n",
              "      <th>4</th>\n",
              "      <td>10514.084534</td>\n",
              "      <td>32667.300781</td>\n",
              "      <td>288.763423</td>\n",
              "      <td>532.504369</td>\n",
              "    </tr>\n",
              "    <tr>\n",
              "      <th>...</th>\n",
              "      <td>...</td>\n",
              "      <td>...</td>\n",
              "      <td>...</td>\n",
              "      <td>...</td>\n",
              "    </tr>\n",
              "    <tr>\n",
              "      <th>676</th>\n",
              "      <td>9112.326965</td>\n",
              "      <td>41743.669922</td>\n",
              "      <td>340.707108</td>\n",
              "      <td>637.617828</td>\n",
              "    </tr>\n",
              "    <tr>\n",
              "      <th>677</th>\n",
              "      <td>9152.765930</td>\n",
              "      <td>41561.390625</td>\n",
              "      <td>342.970047</td>\n",
              "      <td>637.083313</td>\n",
              "    </tr>\n",
              "    <tr>\n",
              "      <th>678</th>\n",
              "      <td>9125.065979</td>\n",
              "      <td>41823.429688</td>\n",
              "      <td>344.503732</td>\n",
              "      <td>647.694397</td>\n",
              "    </tr>\n",
              "    <tr>\n",
              "      <th>679</th>\n",
              "      <td>9117.836365</td>\n",
              "      <td>41628.908203</td>\n",
              "      <td>345.581287</td>\n",
              "      <td>651.184692</td>\n",
              "    </tr>\n",
              "    <tr>\n",
              "      <th>680</th>\n",
              "      <td>9064.513306</td>\n",
              "      <td>41752.601562</td>\n",
              "      <td>346.736319</td>\n",
              "      <td>648.471436</td>\n",
              "    </tr>\n",
              "  </tbody>\n",
              "</table>\n",
              "<p>681 rows × 4 columns</p>\n",
              "</div>"
            ],
            "text/plain": [
              "             agri      precious       metal      energy\n",
              "0    10482.107788  32224.940430  287.222968  519.463318\n",
              "1    10481.221191  32336.324219  287.015866  521.957881\n",
              "2    10509.499329  32414.884766  287.147202  526.385325\n",
              "3    10508.949707  32560.418945  287.171559  527.517115\n",
              "4    10514.084534  32667.300781  288.763423  532.504369\n",
              "..            ...           ...         ...         ...\n",
              "676   9112.326965  41743.669922  340.707108  637.617828\n",
              "677   9152.765930  41561.390625  342.970047  637.083313\n",
              "678   9125.065979  41823.429688  344.503732  647.694397\n",
              "679   9117.836365  41628.908203  345.581287  651.184692\n",
              "680   9064.513306  41752.601562  346.736319  648.471436\n",
              "\n",
              "[681 rows x 4 columns]"
            ]
          },
          "metadata": {
            "tags": []
          },
          "execution_count": 79
        }
      ]
    },
    {
      "cell_type": "code",
      "metadata": {
        "id": "kLVTgXZIAoO-",
        "colab": {
          "base_uri": "https://localhost:8080/",
          "height": 402
        },
        "outputId": "e8b54409-1e52-48e1-c793-9e251cd19dae"
      },
      "source": [
        "\n",
        "G['index'] = G['agri']*0.004 + G['precious']*0.0404 + G['metal']*0.0222 + G['energy']*0.0333\n",
        "G"
      ],
      "execution_count": null,
      "outputs": [
        {
          "output_type": "execute_result",
          "data": {
            "text/html": [
              "<div>\n",
              "<style scoped>\n",
              "    .dataframe tbody tr th:only-of-type {\n",
              "        vertical-align: middle;\n",
              "    }\n",
              "\n",
              "    .dataframe tbody tr th {\n",
              "        vertical-align: top;\n",
              "    }\n",
              "\n",
              "    .dataframe thead th {\n",
              "        text-align: right;\n",
              "    }\n",
              "</style>\n",
              "<table border=\"1\" class=\"dataframe\">\n",
              "  <thead>\n",
              "    <tr style=\"text-align: right;\">\n",
              "      <th></th>\n",
              "      <th>agri</th>\n",
              "      <th>precious</th>\n",
              "      <th>metal</th>\n",
              "      <th>energy</th>\n",
              "      <th>index</th>\n",
              "    </tr>\n",
              "  </thead>\n",
              "  <tbody>\n",
              "    <tr>\n",
              "      <th>0</th>\n",
              "      <td>10482.107788</td>\n",
              "      <td>32224.940430</td>\n",
              "      <td>287.222968</td>\n",
              "      <td>519.463318</td>\n",
              "      <td>1367.490503</td>\n",
              "    </tr>\n",
              "    <tr>\n",
              "      <th>1</th>\n",
              "      <td>10481.221191</td>\n",
              "      <td>32336.324219</td>\n",
              "      <td>287.015866</td>\n",
              "      <td>521.957881</td>\n",
              "      <td>1372.065333</td>\n",
              "    </tr>\n",
              "    <tr>\n",
              "      <th>2</th>\n",
              "      <td>10509.499329</td>\n",
              "      <td>32414.884766</td>\n",
              "      <td>287.147202</td>\n",
              "      <td>526.385325</td>\n",
              "      <td>1375.502641</td>\n",
              "    </tr>\n",
              "    <tr>\n",
              "      <th>3</th>\n",
              "      <td>10508.949707</td>\n",
              "      <td>32560.418945</td>\n",
              "      <td>287.171559</td>\n",
              "      <td>527.517115</td>\n",
              "      <td>1381.418253</td>\n",
              "    </tr>\n",
              "    <tr>\n",
              "      <th>4</th>\n",
              "      <td>10514.084534</td>\n",
              "      <td>32667.300781</td>\n",
              "      <td>288.763423</td>\n",
              "      <td>532.504369</td>\n",
              "      <td>1385.958233</td>\n",
              "    </tr>\n",
              "    <tr>\n",
              "      <th>...</th>\n",
              "      <td>...</td>\n",
              "      <td>...</td>\n",
              "      <td>...</td>\n",
              "      <td>...</td>\n",
              "      <td>...</td>\n",
              "    </tr>\n",
              "    <tr>\n",
              "      <th>676</th>\n",
              "      <td>9112.326965</td>\n",
              "      <td>41743.669922</td>\n",
              "      <td>340.707108</td>\n",
              "      <td>637.617828</td>\n",
              "      <td>1751.689944</td>\n",
              "    </tr>\n",
              "    <tr>\n",
              "      <th>677</th>\n",
              "      <td>9152.765930</td>\n",
              "      <td>41561.390625</td>\n",
              "      <td>342.970047</td>\n",
              "      <td>637.083313</td>\n",
              "      <td>1744.520054</td>\n",
              "    </tr>\n",
              "    <tr>\n",
              "      <th>678</th>\n",
              "      <td>9125.065979</td>\n",
              "      <td>41823.429688</td>\n",
              "      <td>344.503732</td>\n",
              "      <td>647.694397</td>\n",
              "      <td>1755.383030</td>\n",
              "    </tr>\n",
              "    <tr>\n",
              "      <th>679</th>\n",
              "      <td>9117.836365</td>\n",
              "      <td>41628.908203</td>\n",
              "      <td>345.581287</td>\n",
              "      <td>651.184692</td>\n",
              "      <td>1747.635592</td>\n",
              "    </tr>\n",
              "    <tr>\n",
              "      <th>680</th>\n",
              "      <td>9064.513306</td>\n",
              "      <td>41752.601562</td>\n",
              "      <td>346.736319</td>\n",
              "      <td>648.471436</td>\n",
              "      <td>1752.354801</td>\n",
              "    </tr>\n",
              "  </tbody>\n",
              "</table>\n",
              "<p>681 rows × 5 columns</p>\n",
              "</div>"
            ],
            "text/plain": [
              "             agri      precious       metal      energy        index\n",
              "0    10482.107788  32224.940430  287.222968  519.463318  1367.490503\n",
              "1    10481.221191  32336.324219  287.015866  521.957881  1372.065333\n",
              "2    10509.499329  32414.884766  287.147202  526.385325  1375.502641\n",
              "3    10508.949707  32560.418945  287.171559  527.517115  1381.418253\n",
              "4    10514.084534  32667.300781  288.763423  532.504369  1385.958233\n",
              "..            ...           ...         ...         ...          ...\n",
              "676   9112.326965  41743.669922  340.707108  637.617828  1751.689944\n",
              "677   9152.765930  41561.390625  342.970047  637.083313  1744.520054\n",
              "678   9125.065979  41823.429688  344.503732  647.694397  1755.383030\n",
              "679   9117.836365  41628.908203  345.581287  651.184692  1747.635592\n",
              "680   9064.513306  41752.601562  346.736319  648.471436  1752.354801\n",
              "\n",
              "[681 rows x 5 columns]"
            ]
          },
          "metadata": {
            "tags": []
          },
          "execution_count": 80
        }
      ]
    },
    {
      "cell_type": "code",
      "metadata": {
        "id": "Ib7SlCP4ESou",
        "colab": {
          "base_uri": "https://localhost:8080/",
          "height": 282
        },
        "outputId": "76066083-e86b-4559-9f62-cad2239a97e7"
      },
      "source": [
        "Indexs = {'comdex': G['index'], 'dynamic' : f['Index']}\n",
        "Indexs =pd.DataFrame(Indexs)\n",
        "Indexs\n",
        "plt.figure()\n",
        "Indexs.plot()\n",
        "plt.show()"
      ],
      "execution_count": null,
      "outputs": [
        {
          "output_type": "display_data",
          "data": {
            "text/plain": [
              "<Figure size 432x288 with 0 Axes>"
            ]
          },
          "metadata": {
            "tags": []
          }
        },
        {
          "output_type": "display_data",
          "data": {
            "image/png": "[encoded data removed]",
            "text/plain": [
              "<Figure size 432x288 with 1 Axes>"
            ]
          },
          "metadata": {
            "tags": [],
            "needs_background": "light"
          }
        }
      ]
    }
  ]
}